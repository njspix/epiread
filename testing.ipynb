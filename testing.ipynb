{
 "cells": [
  {
   "cell_type": "code",
   "execution_count": 1,
   "metadata": {},
   "outputs": [],
   "source": [
    "include(\"./src/parse_file.jl\")"
   ]
  },
  {
   "cell_type": "code",
   "execution_count": 5,
   "metadata": {},
   "outputs": [
    {
     "data": {
      "text/plain": [
       "\"/Volumes/projects/laird/nathan/projects/julia/epiread/testing/part_epiread.bed\""
      ]
     },
     "metadata": {},
     "output_type": "display_data"
    }
   ],
   "source": [
    "path = \"./testing/test_epiread_small.bed\"\n",
    "big_bgz_path = \"/Volumes/projects/laird/nathan/projects/julia/epiread/testing/test_epiread.bed.bgz\"\n",
    "part_path = \"/Volumes/projects/laird/nathan/projects/julia/epiread/testing/part_epiread.bed\"\n"
   ]
  },
  {
   "cell_type": "code",
   "execution_count": 8,
   "metadata": {},
   "outputs": [
    {
     "name": "stderr",
     "output_type": "stream",
     "text": [
      "Completed analyis of 63 reads in chr1\n",
      "Completed analyis of 37 reads in chr2\n"
     ]
    },
    {
     "data": {
      "text/plain": [
       "Dict{String, SparseMatrixCSC{Int64, Int64}} with 2 entries:\n",
       "  \"chr2\" => sparse([2, 2, 4, 6, 2, 4, 6, 4, 6, 4  …  15, 15, 16, 16, 17, 18, 17…\n",
       "  \"chr1\" => sparse([2, 2, 2, 2, 2, 3, 3, 1, 1, 4  …  23, 24, 25, 26, 27, 21, 22…"
      ]
     },
     "metadata": {},
     "output_type": "display_data"
    }
   ],
   "source": [
    "results = parse_infile(path)"
   ]
  },
  {
   "cell_type": "code",
   "execution_count": 12,
   "metadata": {},
   "outputs": [
    {
     "data": {
      "text/plain": [
       "27×631931 SparseMatrixCSC{Int64, Int64} with 105 stored entries:\n",
       "⠀⠀⠀⠀⠀⠀⠀⠀⠈⠀⠀⠈⠉⠀⠀⠀⠀⠀⠀⠀⠀⠀⠀⠀⠀⠀⠀⠀⠀⠀⠀⠀⠀⠈⠀⠀⠀⠒⠂⠐"
      ]
     },
     "metadata": {},
     "output_type": "display_data"
    }
   ],
   "source": [
    "x = results[\"chr1\"]"
   ]
  },
  {
   "cell_type": "code",
   "execution_count": 17,
   "metadata": {},
   "outputs": [
    {
     "data": {
      "text/plain": [
       "27×84 SparseMatrixCSC{Int64, Int64} with 11 stored entries:\n",
       "⢨⢨⠀⠀⠀⠀⠀⡅⠀⠀⠀⠀⠀⠀⠀⠀⠀⠀⠀⠀⠀⠀⠀⠀⠀⠀⠀⠀⠀⠀⠀⠀⠀⠀⠀⠀⠀⠀⠀⠀\n",
       "⠀⠈⠀⠀⠀⠀⠀⠁⠀⠀⠀⠀⠀⠀⠀⠀⠀⠀⠀⠀⠀⠀⠀⠀⠀⠀⠀⠀⠀⠀⠀⠀⠀⠀⠀⠀⠀⠀⠀⠀\n",
       "⠀⠀⠀⠀⠀⠀⠀⠀⠀⠀⠀⠀⠀⠀⠀⠀⠀⠀⠀⠀⠀⠀⠀⠀⠀⠀⠀⠀⠀⠀⠀⠀⠀⠀⠀⠀⠀⠀⠀⠀\n",
       "⠀⠀⠀⠀⠀⠀⠀⠀⠀⠀⠀⠀⠀⠀⠀⠀⠀⠀⠀⠀⠀⠀⠀⠀⠀⠀⠀⠀⠀⠀⠀⠀⠀⠀⠀⠀⠀⠀⠀⠀\n",
       "⠀⠀⠀⠀⠀⠀⠀⠀⠀⠀⠀⠀⠀⠀⠀⠀⠀⠀⠀⠀⠀⠀⠀⠀⠀⠀⠀⠀⠀⠀⠀⠀⠀⠀⠀⠀⠀⠀⠀⠀\n",
       "⠀⠀⠀⠀⠀⠀⠀⠀⠀⠀⠀⠀⠀⠀⠀⠀⠀⠀⠀⠀⠀⠀⠀⠀⠀⠀⠀⠀⠀⠀⠀⠀⠀⠀⠀⠀⠀⠀⠀⠀\n",
       "⠀⠀⠀⠀⠀⠀⠀⠀⠀⠀⠀⠀⠀⠀⠀⠀⠀⠀⠀⠀⠀⠀⠀⠀⠀⠀⠀⠀⠀⠀⠀⠀⠀⠀⠀⠀⠀⠀⠀⠀"
      ]
     },
     "metadata": {},
     "output_type": "display_data"
    }
   ],
   "source": [
    "test = x[:,136617:136700]"
   ]
  },
  {
   "cell_type": "code",
   "execution_count": 55,
   "metadata": {},
   "outputs": [
    {
     "name": "stdout",
     "output_type": "stream",
     "text": [
      "track type=wiggle_0\n",
      "fixedStep\tchrom=chr2\tstart=1\tstep=4\n"
     ]
    }
   ],
   "source": [
    "include(\"./src/parse_file.jl\")"
   ]
  },
  {
   "cell_type": "code",
   "execution_count": 54,
   "metadata": {},
   "outputs": [
    {
     "name": "stdout",
     "output_type": "stream",
     "text": [
      "a = [0 77 0 77; 0 77 0 77; 0 77 0 77; 0 0 0 85]\n",
      "2\n",
      "a = Matrix{Int64}(undef, 0, 0)\n",
      "a = Matrix{Int64}(undef, 0, 0)\n",
      "a = [0 0 0 77; 0 0 0 77; 0 0 0 77; 0 0 0 77]\n",
      "1\n",
      "a = Matrix{Int64}(undef, 0, 0)\n",
      "a = Matrix{Int64}(undef, 0, 0)\n",
      "a = Matrix{Int64}(undef, 0, 0)\n",
      "a = Matrix{Int64}(undef, 0, 0)\n",
      "a = Matrix{Int64}(undef, 0, 0)\n",
      "a = Matrix{Int64}(undef, 0, 0)\n",
      "a = Matrix{Int64}(undef, 0, 0)\n",
      "a = Matrix{Int64}(undef, 0, 0)\n",
      "a = Matrix{Int64}(undef, 0, 0)\n",
      "a = Matrix{Int64}(undef, 0, 0)\n",
      "a = Matrix{Int64}(undef, 0, 0)\n",
      "a = Matrix{Int64}(undef, 0, 0)\n",
      "a = Matrix{Int64}(undef, 0, 0)\n",
      "a = Matrix{Int64}(undef, 0, 0)\n",
      "a = Matrix{Int64}(undef, 0, 0)\n",
      "a = Matrix{Int64}(undef, 0, 0)\n",
      "a = Matrix{Int64}(undef, 0, 0)\n"
     ]
    }
   ],
   "source": [
    "for i in 1:4:size(test,2)\n",
    "\tupper_limit = minimum([i+4-1, size(test,2)])\n",
    "\ta= get_unsparse_nonzero_rows(test[:,i:upper_limit])\n",
    "\t@show a\n",
    "\tif !isempty(a)\n",
    "\t\tn = count_epialleles(matrix_to_epiallele_vector(a))\n",
    "\t\tprintln(n)\n",
    "\telse\n",
    "\tend\n",
    "end"
   ]
  },
  {
   "cell_type": "code",
   "execution_count": null,
   "metadata": {},
   "outputs": [],
   "source": [
    "x"
   ]
  },
  {
   "cell_type": "code",
   "execution_count": 48,
   "metadata": {},
   "outputs": [
    {
     "data": {
      "text/plain": [
       "0×0 Matrix{Int64}"
      ]
     },
     "metadata": {},
     "output_type": "display_data"
    }
   ],
   "source": []
  },
  {
   "cell_type": "code",
   "execution_count": null,
   "metadata": {},
   "outputs": [],
   "source": []
  }
 ],
 "metadata": {
  "kernelspec": {
   "display_name": "Julia 1.8.0-rc1",
   "language": "julia",
   "name": "julia-1.8"
  },
  "language_info": {
   "file_extension": ".jl",
   "mimetype": "application/julia",
   "name": "julia",
   "version": "1.8.0-rc1"
  },
  "orig_nbformat": 4,
  "vscode": {
   "interpreter": {
    "hash": "b0fa6594d8f4cbf19f97940f81e996739fb7646882a419484c72d19e05852a7e"
   }
  }
 },
 "nbformat": 4,
 "nbformat_minor": 2
}
