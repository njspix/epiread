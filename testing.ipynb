{
 "cells": [
  {
   "cell_type": "code",
   "execution_count": 1,
   "metadata": {},
   "outputs": [
    {
     "name": "stdout",
     "output_type": "stream",
     "text": [
      "Completed analyis of 63 reads in chr1\n",
      "Completed analyis of 37 reads in chr2\n"
     ]
    },
    {
     "data": {
      "text/plain": [
       "Dict{String, SparseMatrixCSC{Int64, Int64}} with 2 entries:\n",
       "  \"chr2\" => sparse([2, 2, 4, 6, 2, 4, 6, 4, 6, 4  …  15, 15, 16, 16, 17, 18, 17…\n",
       "  \"chr1\" => sparse([2, 2, 2, 2, 2, 3, 3, 1, 1, 4  …  23, 24, 25, 26, 27, 21, 22…"
      ]
     },
     "metadata": {},
     "output_type": "display_data"
    }
   ],
   "source": [
    "include(\"./src/parse_file.jl\")"
   ]
  },
  {
   "cell_type": "code",
   "execution_count": 2,
   "metadata": {},
   "outputs": [
    {
     "data": {
      "text/plain": [
       "\"/Volumes/projects/laird/nathan/projects/julia/epiread/testing/part_epiread.bed\""
      ]
     },
     "metadata": {},
     "output_type": "display_data"
    }
   ],
   "source": [
    "path = \"./testing/test_epiread_small.bed\"\n",
    "big_bgz_path = \"/Volumes/projects/laird/nathan/projects/julia/epiread/testing/test_epiread.bed.bgz\"\n",
    "part_path = \"/Volumes/projects/laird/nathan/projects/julia/epiread/testing/part_epiread.bed\"\n"
   ]
  },
  {
   "cell_type": "code",
   "execution_count": 3,
   "metadata": {},
   "outputs": [
    {
     "name": "stdout",
     "output_type": "stream",
     "text": [
      "Completed analyis of 63 reads in chr1\n",
      "Completed analyis of 37 reads in chr2\n"
     ]
    },
    {
     "data": {
      "text/plain": [
       "Dict{String, SparseMatrixCSC{Int64, Int64}} with 2 entries:\n",
       "  \"chr2\" => sparse([2, 2, 4, 6, 2, 4, 6, 4, 6, 4  …  15, 15, 16, 16, 17, 18, 17…\n",
       "  \"chr1\" => sparse([2, 2, 2, 2, 2, 3, 3, 1, 1, 4  …  23, 24, 25, 26, 27, 21, 22…"
      ]
     },
     "metadata": {},
     "output_type": "display_data"
    }
   ],
   "source": [
    "results = analyze_file(path)"
   ]
  },
  {
   "cell_type": "code",
   "execution_count": 4,
   "metadata": {},
   "outputs": [
    {
     "data": {
      "text/plain": [
       "27×631931 SparseMatrixCSC{Int64, Int64} with 105 stored entries:\n",
       "⠀⠀⠀⠀⠀⠀⠀⠀⠈⠀⠀⠈⠉⠀⠀⠀⠀⠀⠀⠀⠀⠀⠀⠀⠀⠀⠀⠀⠀⠀⠀⠀⠀⠈⠀⠀⠀⠒⠂⠐"
      ]
     },
     "metadata": {},
     "output_type": "display_data"
    }
   ],
   "source": [
    "x= results[\"chr1\"]"
   ]
  },
  {
   "cell_type": "code",
   "execution_count": 5,
   "metadata": {},
   "outputs": [
    {
     "data": {
      "text/plain": [
       "631931-element SparseVector{Int64, Int64} with 5 stored entries:\n",
       "  [136571]  =  77\n",
       "  [136583]  =  77\n",
       "  [136618]  =  77\n",
       "  [136620]  =  77\n",
       "  [136632]  =  77"
      ]
     },
     "metadata": {},
     "output_type": "display_data"
    }
   ],
   "source": [
    "x[4,:]"
   ]
  },
  {
   "cell_type": "code",
   "execution_count": 6,
   "metadata": {},
   "outputs": [
    {
     "data": {
      "text/plain": [
       "get_unsparse_nonzero_rows (generic function with 1 method)"
      ]
     },
     "metadata": {},
     "output_type": "display_data"
    }
   ],
   "source": [
    "function get_unsparse_nonzero_rows(matrix::SparseMatrixCSC{Int64, Int64})\n",
    "\tnzrows = unique(matrix.rowval)\n",
    "\tif !isempty(nzrows)\n",
    "\t\treturn Matrix(matrix)[nzrows,:]\n",
    "\telse \n",
    "\t\treturn Matrix{Int64}(undef, 0, 0)\n",
    "\tend\n",
    "end"
   ]
  },
  {
   "cell_type": "code",
   "execution_count": 18,
   "metadata": {},
   "outputs": [
    {
     "name": "stdout",
     "output_type": "stream",
     "text": [
      "136289\n",
      "a = [0 0 77 0]\n",
      "136309\n",
      "a = [0 0 0 77]\n",
      "136325\n",
      "a = [0 77 0 77]\n",
      "136337\n",
      "a = [0 0 0 77]\n",
      "136485\n",
      "a = [77 0 0 0]\n",
      "136505\n",
      "a = [0 77 0 0]\n",
      "136517\n",
      "a = [0 0 0 77]\n",
      "136533\n",
      "a = [0 77 0 0]\n",
      "136569\n",
      "a = [0 0 77 0]\n",
      "136581\n",
      "a = [0 0 77 0; 0 0 77 0; 0 0 77 0]\n",
      "136617\n",
      "a = [0 77 0 77; 0 77 0 77; 0 77 0 77; 0 0 0 85]\n",
      "136629\n",
      "a = [0 0 0 77; 0 0 0 77; 0 0 0 77; 0 0 0 77]\n",
      "136713\n",
      "a = [0 0 0 85]\n",
      "136717\n",
      "a = [0 85 0 0]\n",
      "136777\n",
      "a = [0 77 0 0; 0 77 0 0]\n",
      "136797\n",
      "a = [85 0 0 0; 85 0 0 0]\n",
      "180609\n",
      "a = [0 0 0 77]\n",
      "180637\n",
      "a = [0 85 0 0]\n",
      "180649\n",
      "a = [0 77 0 0]\n",
      "180673\n",
      "a = [0 77 0 0; 0 77 0 0]\n",
      "190909\n",
      "a = [0 85 0 0]\n",
      "191437\n",
      "a = [0 77 0 0; 0 77 0 0]\n",
      "191489\n",
      "a = [0 0 77 0; 0 0 77 0]\n"
     ]
    }
   ],
   "source": [
    "window_size = 4\n",
    "\n",
    "for i in 1:window_size:200000\n",
    "\ttry\n",
    "\t\ta = get_unsparse_nonzero_rows(x[:,i:i+window_size-1])\n",
    "\t\tif !isempty(a)\n",
    "\t\t\t# count_epialleles(x)\n",
    "\t\t\tprintln(i)\n",
    "\t\t\t@show a\n",
    "\t\tend\n",
    "\tcatch\n",
    "\tend\n",
    "end"
   ]
  },
  {
   "cell_type": "code",
   "execution_count": 16,
   "metadata": {},
   "outputs": [
    {
     "data": {
      "text/plain": [
       "5-element Vector{Int64}:\n",
       "  1\n",
       "  5\n",
       "  9\n",
       " 13\n",
       " 17"
      ]
     },
     "metadata": {},
     "output_type": "display_data"
    }
   ],
   "source": [
    "collect(1:4:20)"
   ]
  },
  {
   "cell_type": "code",
   "execution_count": 26,
   "metadata": {},
   "outputs": [
    {
     "data": {
      "text/plain": [
       "3×4 Matrix{Int64}:\n",
       " 0  77  0  77\n",
       " 0  77  0  77\n",
       " 0  65  0  77"
      ]
     },
     "metadata": {},
     "output_type": "display_data"
    }
   ],
   "source": [
    "a = [0 77 0 77; 0 77 0 77; 0 65 0 77]"
   ]
  },
  {
   "cell_type": "code",
   "execution_count": 41,
   "metadata": {},
   "outputs": [
    {
     "data": {
      "text/plain": [
       "count_alleles (generic function with 2 methods)"
      ]
     },
     "metadata": {},
     "output_type": "display_data"
    }
   ],
   "source": [
    "function count_alleles(matrix::Matrix{Int64}, window_size::Int)\n",
    "\tdiff = zeros(Int, window_size)\n",
    "\tfor col in 1:window_size\n",
    "\t\tdiff[col] = length(unique(matrix[:,col]))\n",
    "\tend\n",
    "\treturn maximum(diff)\n",
    "end"
   ]
  },
  {
   "cell_type": "code",
   "execution_count": 42,
   "metadata": {},
   "outputs": [
    {
     "data": {
      "text/plain": [
       "2"
      ]
     },
     "metadata": {},
     "output_type": "display_data"
    }
   ],
   "source": [
    "count_alleles(a, 4)"
   ]
  },
  {
   "cell_type": "code",
   "execution_count": null,
   "metadata": {},
   "outputs": [],
   "source": []
  }
 ],
 "metadata": {
  "kernelspec": {
   "display_name": "Julia 1.8.0-rc1",
   "language": "julia",
   "name": "julia-1.8"
  },
  "language_info": {
   "file_extension": ".jl",
   "mimetype": "application/julia",
   "name": "julia",
   "version": "1.8.0-rc1"
  },
  "orig_nbformat": 4,
  "vscode": {
   "interpreter": {
    "hash": "b0fa6594d8f4cbf19f97940f81e996739fb7646882a419484c72d19e05852a7e"
   }
  }
 },
 "nbformat": 4,
 "nbformat_minor": 2
}
