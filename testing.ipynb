{
 "cells": [
  {
   "cell_type": "code",
   "execution_count": 3,
   "metadata": {},
   "outputs": [
    {
     "data": {
      "text/plain": [
       "Main.EPIREAD"
      ]
     },
     "metadata": {},
     "output_type": "display_data"
    }
   ],
   "source": [
    "include(\"./src/EPIREAD.jl\")"
   ]
  },
  {
   "cell_type": "code",
   "execution_count": 4,
   "metadata": {},
   "outputs": [
    {
     "data": {
      "text/plain": [
       "test (generic function with 1 method)"
      ]
     },
     "metadata": {},
     "output_type": "display_data"
    }
   ],
   "source": [
    "function test(path)\n",
    "    reader = EPIREAD.Reader(path)\n",
    "\n",
    "    # Pre-allocate record.\n",
    "    record = EPIREAD.Record()\n",
    "    i = 0\n",
    "    while !eof(reader)\n",
    "        empty!(record)\n",
    "        read!(reader, record)\n",
    "        # (i % 100000 == 0) && (i > 0) && println(\"Processed $i reads\")\n",
    "        i += 1\n",
    "    end\n",
    "    println(\"Finished processing $(i) reads\")\n",
    "\n",
    "    # Finally, close the reader.\n",
    "    close(reader)\n",
    "end"
   ]
  },
  {
   "cell_type": "code",
   "execution_count": 5,
   "metadata": {},
   "outputs": [
    {
     "name": "stdout",
     "output_type": "stream",
     "text": [
      "Finished processing 100 reads\n"
     ]
    }
   ],
   "source": [
    "path = \"./testing/test_epiread_small.bed\"\n",
    "big_bgz_path = \"/Volumes/projects/laird/nathan/projects/julia/epiread/testing/test_epiread.bed.bgz\"\n",
    "part_path = \"/Volumes/projects/laird/nathan/projects/julia/epiread/testing/part_epiread.bed\"\n",
    "test(path)"
   ]
  },
  {
   "cell_type": "code",
   "execution_count": 6,
   "metadata": {},
   "outputs": [
    {
     "data": {
      "text/plain": [
       "get_leftmost_chromend (generic function with 1 method)"
      ]
     },
     "metadata": {},
     "output_type": "display_data"
    }
   ],
   "source": [
    "# Find any reads in the cache that are too far to the left, or on a different chr than provided\n",
    "function clean_record_cache!(cache::Vector{EPIREAD.Record}, max_end::Int64, new_chr::String)::Vector{EPIREAD.Record}\n",
    "    reads_to_analyze = Vector{EPIREAD.Record}()\n",
    "    for (i, record) in enumerate(cache)\n",
    "        if (EPIREAD.chromend(record) < max_end) || (EPIREAD.chrom(record) ≠ new_chr)\n",
    "            push!(reads_to_analyze, popat!(cache, i))\n",
    "        end\n",
    "    end\n",
    "    return reads_to_analyze\n",
    "end\n",
    "\n",
    "function get_leftmost_chromend(cache::Vector{EPIREAD.Record})::Int64\n",
    "    if length(cache) > 0\n",
    "        return minimum(EPIREAD.chromend.(cache))\n",
    "    else\n",
    "        return Int64(0)\n",
    "    end\n",
    "end"
   ]
  },
  {
   "cell_type": "code",
   "execution_count": 8,
   "metadata": {},
   "outputs": [
    {
     "data": {
      "text/plain": [
       "analyze_record_pair (generic function with 1 method)"
      ]
     },
     "metadata": {},
     "output_type": "display_data"
    }
   ],
   "source": [
    "function analyze_read(read::EPIREAD.Record)\n",
    "\tprintln(\"analyzing read $(EPIREAD.name(read))/$(EPIREAD.readnum(read)) ($(EPIREAD.chrom(read)))\")\n",
    "end\n",
    "\n",
    "allsame(x) = all(y->y==first(x),x)\n",
    "\n",
    "function analyze_record_pair(read1::EPIREAD.Record, read2::EPIREAD.Record)\n",
    "\tif !allsame(EPIREAD.chrom.((read1, read2)))\n",
    "\t\tfor each in (read1, read2)\n",
    "\t\t\tanalyze_read(each)\n",
    "\t\tend\n",
    "\telse \n",
    "\t\tprintln(\"analyzing read pair $(EPIREAD.name(read1))/$(EPIREAD.readnum(read1)), $(EPIREAD.name(read2))/$(EPIREAD.readnum(read2))\")\n",
    "\tend\n",
    "end\n"
   ]
  },
  {
   "cell_type": "code",
   "execution_count": 9,
   "metadata": {},
   "outputs": [],
   "source": [
    "# Reads must be coordinate-sorted, so read pairs might not be adjacent in the file. \n",
    "# Need to set a parameter (insert size) to stop looking for mate pair of a read\n",
    "\n",
    "#= \n",
    "Step through reads, one at a time. When we first see a read, we don't know if we'll find a mate for it. \n",
    "So we put it into the 'read cache' for a moment. We then keep reading. For each new read we find, we \n",
    "perform two checks:\n",
    "1. if the chromend of the first (leftmost) read in the cache is more than (max_isize) bp away from the chromstart\n",
    "of the read we're looking at, we are 'out of pairing range'. We take this opportunity to go through the cache\n",
    "and purge any reads that are impossible to pair anymore, putting them in the 'analyze' queue. We also push our current read to the cache.\n",
    "2. if the name of the read we're looking at matches the name of a read in the cache, we pull that read out and analyze it with the current read.\n",
    "(also should check that chrom stays the same...!)\n",
    "=# \n",
    "\n",
    "\n",
    "\n"
   ]
  },
  {
   "cell_type": "code",
   "execution_count": 10,
   "metadata": {},
   "outputs": [
    {
     "data": {
      "text/plain": [
       "test2 (generic function with 1 method)"
      ]
     },
     "metadata": {},
     "output_type": "display_data"
    }
   ],
   "source": [
    "\n",
    "\n",
    "function test2(path; max_isize = 1000)\n",
    "\n",
    "    record_cache = Vector{EPIREAD.Record}()\n",
    "    reader = EPIREAD.Reader(path)\n",
    "\n",
    "    # Pre-allocate record.\n",
    "    record = EPIREAD.Record()\n",
    "    i = 0\n",
    "    last_chr = String(\"\")\n",
    "    while !eof(reader)\n",
    "    # while i < 1000\n",
    "        empty!(record)\n",
    "        read!(reader, record)\n",
    "        name = EPIREAD.name(record)\n",
    "        chromstart = EPIREAD.chromstart(record)\n",
    "        current_chr = EPIREAD.chrom(record)\n",
    "        \n",
    "        # Find the furthest-left *end* coordinate of all reads in the cache (if it is too far away from the beginning of this read, we'll never be able to pair to it)\n",
    "        leftmost_chromend = get_leftmost_chromend(record_cache)\n",
    "        # Test as above, and also check if we're on a new chr.\n",
    "        if ( (leftmost_chromend < (chromstart - max_isize)) && (leftmost_chromend > 0) ) || ( (last_chr ≠ current_chr) && (last_chr ≠ \"\") )\n",
    "            # If either of the above is true, get all the un-pair-able reads out of the cache and analyze them:\n",
    "            println(\"cleaning cache because min_end $leftmost_chromend is more than $max_isize away from $chromstart or because last-seen $(last_chr) is different from current $(EPIREAD.chrom(record)) (read $(name))\")\n",
    "            for each in clean_record_cache!(record_cache, chromstart - max_isize, EPIREAD.chrom(record))\n",
    "                analyze_read(each)\n",
    "            end\n",
    "        end\n",
    "        \n",
    "        # Ok, any read still in the cache is fair game to pair with our current read. Let's see if we can find a match:\n",
    "        cached_names = EPIREAD.name.(record_cache)\n",
    "        if name in cached_names \n",
    "            pair_record = popat!(record_cache, findfirst(isequal(name), cached_names))\n",
    "            analyze_record_pair(record, pair_record)\n",
    "\n",
    "        # Ok, we couldn't find a match. Save this read for later (maybe its match just hasn't been read yet!)\n",
    "        else\n",
    "            push!(record_cache, copy(record))\n",
    "        end\n",
    "        i += 1\n",
    "        last_chr = current_chr\n",
    "    end\n",
    "    println(\"Finished processing $(i) reads\")\n",
    "    # Finally, close the reader.\n",
    "    close(reader)\n",
    "    for each in record_cache\n",
    "        analyze_read(each)\n",
    "    end\n",
    "end\n"
   ]
  },
  {
   "cell_type": "code",
   "execution_count": 58,
   "metadata": {},
   "outputs": [
    {
     "name": "stdout",
     "output_type": "stream",
     "text": [
      "analyzing read pair A00426:227:H7KMJDMXY:2:2233:29695:6605/2, A00426:227:H7KMJDMXY:2:2233:29695:6605/1\n",
      "analyzing read pair A00426:227:H7KMJDMXY:2:2205:19551:25081/1, A00426:227:H7KMJDMXY:2:2205:19551:25081/2\n",
      "analyzing read pair A00426:227:H7KMJDMXY:2:1331:6994:10034/2, A00426:227:H7KMJDMXY:2:1331:6994:10034/1\n",
      "analyzing read pair A00426:227:H7KMJDMXY:2:2205:14642:2456/2, A00426:227:H7KMJDMXY:2:2205:14642:2456/1\n",
      "analyzing read pair A00426:227:H7KMJDMXY:2:1230:12653:24126/1, A00426:227:H7KMJDMXY:2:1230:12653:24126/2\n",
      "analyzing read pair A00426:227:H7KMJDMXY:2:1437:4255:21261/1, A00426:227:H7KMJDMXY:2:1437:4255:21261/2\n",
      "analyzing read pair A00426:227:H7KMJDMXY:2:2351:20627:7091/1, A00426:227:H7KMJDMXY:2:2351:20627:7091/2\n",
      "analyzing read pair A00426:227:H7KMJDMXY:2:2305:21938:14121/1, A00426:227:H7KMJDMXY:2:2305:21938:14121/2\n",
      "analyzing read pair A00426:227:H7KMJDMXY:2:1309:16649:34272/1, A00426:227:H7KMJDMXY:2:1309:16649:34272/2\n",
      "analyzing read pair A00426:227:H7KMJDMXY:2:2435:11749:27320/2, A00426:227:H7KMJDMXY:2:2435:11749:27320/1\n",
      "analyzing read pair A00426:227:H7KMJDMXY:2:1169:15863:15060/2, A00426:227:H7KMJDMXY:2:1169:15863:15060/1\n",
      "analyzing read pair A00426:227:H7KMJDMXY:2:1103:3667:6026/2, A00426:227:H7KMJDMXY:2:1103:3667:6026/1\n",
      "analyzing read pair A00426:227:H7KMJDMXY:2:1161:19334:7326/1, A00426:227:H7KMJDMXY:2:1161:19334:7326/2\n",
      "analyzing read pair A00426:227:H7KMJDMXY:2:1146:5954:29121/2, A00426:227:H7KMJDMXY:2:1146:5954:29121/1\n",
      "analyzing read pair A00426:227:H7KMJDMXY:2:2265:27299:33270/2, A00426:227:H7KMJDMXY:2:2265:27299:33270/1\n",
      "analyzing read pair A00426:227:H7KMJDMXY:2:2472:13096:1658/2, A00426:227:H7KMJDMXY:2:2472:13096:1658/1\n",
      "analyzing read pair A00426:227:H7KMJDMXY:2:1236:10366:31501/2, A00426:227:H7KMJDMXY:2:1236:10366:31501/1\n",
      "analyzing read pair A00426:227:H7KMJDMXY:2:1102:17318:18176/1, A00426:227:H7KMJDMXY:2:1102:17318:18176/2\n",
      "analyzing read pair A00426:227:H7KMJDMXY:2:1184:28483:31313/2, A00426:227:H7KMJDMXY:2:1184:28483:31313/1\n",
      "analyzing read pair A00426:227:H7KMJDMXY:2:1276:28085:18098/2, A00426:227:H7KMJDMXY:2:1276:28085:18098/1\n",
      "analyzing read pair A00426:227:H7KMJDMXY:2:2182:8531:9721/1, A00426:227:H7KMJDMXY:2:2182:8531:9721/2\n",
      "analyzing read pair A00426:227:H7KMJDMXY:2:1138:31937:11960/2, A00426:227:H7KMJDMXY:2:1138:31937:11960/1\n",
      "analyzing read pair A00426:227:H7KMJDMXY:2:2377:21920:12649/1, A00426:227:H7KMJDMXY:2:2377:21920:12649/2\n",
      "analyzing read pair A00426:227:H7KMJDMXY:2:2434:22354:13401/2, A00426:227:H7KMJDMXY:2:2434:22354:13401/1\n",
      "analyzing read pair A00426:227:H7KMJDMXY:2:1424:23981:16626/2, A00426:227:H7KMJDMXY:2:1424:23981:16626/1\n",
      "analyzing read pair A00426:227:H7KMJDMXY:2:1267:32931:29340/2, A00426:227:H7KMJDMXY:2:1267:32931:29340/1\n",
      "analyzing read pair A00426:227:H7KMJDMXY:2:1155:20889:19914/2, A00426:227:H7KMJDMXY:2:1155:20889:19914/1\n",
      "analyzing read pair A00426:227:H7KMJDMXY:2:2346:28818:25473/2, A00426:227:H7KMJDMXY:2:2346:28818:25473/1\n",
      "analyzing read pair A00426:227:H7KMJDMXY:2:1268:24840:16673/2, A00426:227:H7KMJDMXY:2:1268:24840:16673/1\n",
      "analyzing read pair A00426:227:H7KMJDMXY:2:2408:24089:18818/2, A00426:227:H7KMJDMXY:2:2408:24089:18818/1\n",
      "cleaning cache because min_end 631846 is more than 1000 away from 631827 or because last-seen chr1 is different from current chr2 (read A00426:227:H7KMJDMXY:2:1420:31412:31062)\n",
      "analyzing read A00426:227:H7KMJDMXY:2:1103:11903:19633/1 (chr1)\n",
      "analyzing read A00426:227:H7KMJDMXY:2:1437:27163:23296/1 (chr1)\n",
      "analyzing read A00426:227:H7KMJDMXY:2:1420:31412:31062/1 (chr2)\n",
      "analyzing read A00426:227:H7KMJDMXY:2:1420:31412:31062/2 (chr1)\n",
      "analyzing read pair A00426:227:H7KMJDMXY:2:1286:9923:22842/2, A00426:227:H7KMJDMXY:2:1286:9923:22842/1\n",
      "analyzing read pair A00426:227:H7KMJDMXY:2:1309:31286:31970/2, A00426:227:H7KMJDMXY:2:1309:31286:31970/1\n",
      "cleaning cache because min_end 632007 is more than 1000 away from 633075 or because last-seen chr2 is different from current chr2 (read A00426:227:H7KMJDMXY:2:1102:23339:4366)\n",
      "analyzing read A00426:227:H7KMJDMXY:2:1437:27163:23296/2 (chr2)\n",
      "analyzing read pair A00426:227:H7KMJDMXY:2:1102:23339:4366/2, A00426:227:H7KMJDMXY:2:1102:23339:4366/1\n",
      "cleaning cache because min_end 632060 is more than 1000 away from 633606 or because last-seen chr2 is different from current chr2 (read A00426:227:H7KMJDMXY:2:1382:5231:17472)\n",
      "analyzing read A00426:227:H7KMJDMXY:2:1103:11903:19633/2 (chr2)\n",
      "analyzing read pair A00426:227:H7KMJDMXY:2:2129:32018:31955/2, A00426:227:H7KMJDMXY:2:2129:32018:31955/1\n",
      "analyzing read pair A00426:227:H7KMJDMXY:2:1353:19868:14356/2, A00426:227:H7KMJDMXY:2:1353:19868:14356/1\n",
      "cleaning cache because min_end 633756 is more than 1000 away from 636413 or because last-seen chr2 is different from current chr2 (read A00426:227:H7KMJDMXY:2:1358:23149:16282)\n",
      "analyzing read A00426:227:H7KMJDMXY:2:1382:5231:17472/2 (chr2)\n",
      "cleaning cache because min_end 633812 is more than 1000 away from 636417 or because last-seen chr2 is different from current chr2 (read A00426:227:H7KMJDMXY:2:1358:23149:16282)\n",
      "analyzing read A00426:227:H7KMJDMXY:2:1266:6885:31046/1 (chr2)\n",
      "analyzing read pair A00426:227:H7KMJDMXY:2:1358:23149:16282/1, A00426:227:H7KMJDMXY:2:1358:23149:16282/2\n",
      "analyzing read pair A00426:227:H7KMJDMXY:2:1426:2492:32299/2, A00426:227:H7KMJDMXY:2:1426:2492:32299/1\n",
      "analyzing read pair A00426:227:H7KMJDMXY:2:2157:16893:29027/2, A00426:227:H7KMJDMXY:2:2157:16893:29027/1\n",
      "analyzing read pair A00426:227:H7KMJDMXY:2:1373:25735:29309/2, A00426:227:H7KMJDMXY:2:1373:25735:29309/1\n",
      "analyzing read pair A00426:227:H7KMJDMXY:2:1452:8721:25426/2, A00426:227:H7KMJDMXY:2:1452:8721:25426/1\n",
      "analyzing read pair A00426:227:H7KMJDMXY:2:1121:28546:8124/1, A00426:227:H7KMJDMXY:2:1121:28546:8124/2\n",
      "analyzing read pair A00426:227:H7KMJDMXY:2:2164:26332:24173/1, A00426:227:H7KMJDMXY:2:2164:26332:24173/2\n",
      "analyzing read pair A00426:227:H7KMJDMXY:2:2142:22634:9846/1, A00426:227:H7KMJDMXY:2:2142:22634:9846/2\n",
      "analyzing read pair A00426:227:H7KMJDMXY:2:1140:2998:13291/1, A00426:227:H7KMJDMXY:2:1140:2998:13291/2\n",
      "analyzing read pair A00426:227:H7KMJDMXY:2:2314:25825:1125/1, A00426:227:H7KMJDMXY:2:2314:25825:1125/2\n",
      "analyzing read pair A00426:227:H7KMJDMXY:2:2142:5367:18020/1, A00426:227:H7KMJDMXY:2:2142:5367:18020/2\n",
      "Finished processing 100 reads\n"
     ]
    }
   ],
   "source": [
    "test2(path)"
   ]
  },
  {
   "cell_type": "code",
   "execution_count": 11,
   "metadata": {},
   "outputs": [
    {
     "data": {
      "text/plain": [
       "Main.EPIREAD.Record:\n",
       "    chromosome: chr1\n",
       "         start: 10055\n",
       "           end: 10203\n",
       "     name/read: A00426:227:H7KMJDMXY:2:2233:29695:6605/1\n",
       "        strand: +\n",
       "CpG RLE string: F3x49ax24Fx12Fx5Fx3cxF2x16Fx10FxFx3FxFx5Fx2F3\n"
      ]
     },
     "metadata": {},
     "output_type": "display_data"
    }
   ],
   "source": [
    "reader = EPIREAD.Reader(path)\n",
    "record = EPIREAD.Record()\n",
    "read!(reader, record)"
   ]
  },
  {
   "cell_type": "code",
   "execution_count": 10,
   "metadata": {},
   "outputs": [
    {
     "name": "stderr",
     "output_type": "stream",
     "text": [
      "WARNING: redefinition of constant actions. This may fail, cause incorrect answers, or produce other errors.\n"
     ]
    },
    {
     "data": {
      "text/plain": [
       "Dict{Symbol, Expr} with 3 entries:\n",
       "  :enter_first  => :(char = string(data[p]::Char))\n",
       "  :enter_num    => quote…\n",
       "  :enter_subseq => quote…"
      ]
     },
     "metadata": {},
     "output_type": "display_data"
    }
   ],
   "source": [
    "import Automa\n",
    "import Automa.RegExp: @re_str\n",
    "re = Automa.RegExp\n",
    "\n",
    "machine = let \n",
    "\tbase = re\"[FPxMUOSACGTNacgtnD]\"\n",
    "\trep_num = re\"[0-9]+\"\n",
    "\n",
    "\tfirst_rle_unit = re.cat(base, re.opt(rep_num))\n",
    "\tsubseq_rle_unit = re.cat(base, re.opt(rep_num))\n",
    "\trle = re.cat(first_rle_unit, re.rep(subseq_rle_unit))\n",
    "\n",
    "\t# Define actions\n",
    "\tfirst_rle_unit.actions[:enter] = [:enter_first]\n",
    "\trep_num.actions[:enter] = [:enter_num]\n",
    "\tsubseq_rle_unit.actions[:enter] = [:enter_subseq]\n",
    "\n",
    "\n",
    "\tAutoma.compile(rle)\n",
    "end\n",
    "\n",
    "const actions = Dict(\n",
    "\t:enter_first => :(char = string(data[p]::Char)),\n",
    "\t:enter_num => :(mark = p; hasnum = true),\n",
    "\t:enter_subseq => quote\n",
    "\t\treps = hasnum ? data[mark:p-1]::String : \"1\"\n",
    "\t\thasnum = false\n",
    "\t\texecute_rle(char, reps, startpos, J, V)\n",
    "\t\tchar = string(data[p]::Char)\n",
    "\tend\n",
    ")"
   ]
  },
  {
   "cell_type": "code",
   "execution_count": 2,
   "metadata": {},
   "outputs": [
    {
     "data": {
      "text/plain": [
       "403"
      ]
     },
     "metadata": {},
     "output_type": "display_data"
    }
   ],
   "source": [
    "write(\"./machine.dot\", Automa.machine2dot(machine))\n"
   ]
  },
  {
   "cell_type": "code",
   "execution_count": 3,
   "metadata": {},
   "outputs": [
    {
     "data": {
      "text/plain": [
       "quote\n",
       "    \u001b[90m#= /Users/Nathan.Spix/.julia/packages/Automa/1KOLQ/src/codegen.jl:106 =#\u001b[39m\n",
       "    p::Int = 1\n",
       "    \u001b[90m#= /Users/Nathan.Spix/.julia/packages/Automa/1KOLQ/src/codegen.jl:107 =#\u001b[39m\n",
       "    p_end::Int = 0\n",
       "    \u001b[90m#= /Users/Nathan.Spix/.julia/packages/Automa/1KOLQ/src/codegen.jl:108 =#\u001b[39m\n",
       "    p_eof::Int = -1\n",
       "    \u001b[90m#= /Users/Nathan.Spix/.julia/packages/Automa/1KOLQ/src/codegen.jl:109 =#\u001b[39m\n",
       "    cs::Int = 1\n",
       "end"
      ]
     },
     "metadata": {},
     "output_type": "display_data"
    }
   ],
   "source": [
    "\n",
    "context = Automa.CodeGenContext();\n",
    "Automa.generate_init_code(context, machine)"
   ]
  },
  {
   "cell_type": "code",
   "execution_count": 4,
   "metadata": {},
   "outputs": [
    {
     "data": {
      "text/plain": [
       "execute_rle (generic function with 2 methods)"
      ]
     },
     "metadata": {},
     "output_type": "display_data"
    }
   ],
   "source": [
    "using SparseArrays\n",
    "# Column access is fast; row access is slow...\n",
    "\n",
    "#= To construct, we need 3 things:\n",
    "I = vector of row (read) indexes\n",
    "J = vector of column (position) indexes\n",
    "V = vector of values\n",
    "=#\n",
    "\n",
    "function execute_rle(base::String, reps::Int8, startpos::Int64, J::Vector{Int64}, V::Vector{String})\n",
    "\tprintln(\"Storing base $base $reps times\")\n",
    "\n",
    "\tif occursin(base, \"FPx\") # This is an ignore base\n",
    "\t\t# do stuff\n",
    "\telseif occursin(base, \"MUOSACGTN\") # This is a feature base\n",
    "\t\t# do stuff\n",
    "\telseif occursin(base, \"acgtn\") # this is an insertion base\n",
    "\t\t# do stuff\n",
    "\telse # This must be a deletion base\n",
    "\t\t@assert base == \"D\"\n",
    "\t\t# do stuff\n",
    "\tend\n",
    "end\n",
    "\n",
    "function execute_rle(base::String, reps::String, startpos::Int64, J::Vector{Int64}, V::Vector{String})\n",
    "\texecute_rle(base, parse(Int8, reps))\n",
    "end\n"
   ]
  },
  {
   "cell_type": "code",
   "execution_count": 7,
   "metadata": {},
   "outputs": [
    {
     "data": {
      "text/plain": [
       "parse_rle (generic function with 1 method)"
      ]
     },
     "metadata": {},
     "output_type": "display_data"
    }
   ],
   "source": [
    "@eval function parse_rle(data::String, startpos::Int64)\n",
    "\tJ, V = Vector{Int64}(),Vector{String}()\n",
    "\t$(Automa.generate_init_code(context, machine))\n",
    "\tp_end = p_eof = lastindex(data)\n",
    "\tmark, reps, char, hasnum = 0, \"0\", \"\", false\n",
    "\t$(Automa.generate_exec_code(context, machine, actions))\n",
    "\t\n",
    "    iszero(cs) || error(\"failed to parse rle string on byte \", p)\n",
    "    return nothing\n",
    "end;\n",
    "\n",
    "function parse_rle(data::String, startpos::Int)\n",
    "\tparse_rle(data, Int64(startpos))\n",
    "end"
   ]
  },
  {
   "cell_type": "code",
   "execution_count": 9,
   "metadata": {},
   "outputs": [
    {
     "ename": "StackOverflowError",
     "evalue": "StackOverflowError:",
     "output_type": "error",
     "traceback": [
      "StackOverflowError:\n",
      "\n",
      "Stacktrace:\n",
      " [1] parse_rle(data::String, startpos::Int64)\n",
      "   @ Main ~/Library/CloudStorage/OneDrive-VanAndelInstitute/Desktop/julia/epiread/testing.ipynb:12\n",
      " [2] parse_rle(data::String, startpos::Int64)\n",
      "   @ Main ~/Library/CloudStorage/OneDrive-VanAndelInstitute/Desktop/julia/epiread/testing.ipynb:13"
     ]
    }
   ],
   "source": [
    "@time parse_rle(\"F3x49ax24Fx12Fx5Fx3cxF2x16Fx10FxFx3FxFx5Fx2F3\", 100)"
   ]
  },
  {
   "cell_type": "code",
   "execution_count": null,
   "metadata": {},
   "outputs": [],
   "source": []
  }
 ],
 "metadata": {
  "kernelspec": {
   "display_name": "Julia 1.8.0-rc1",
   "language": "julia",
   "name": "julia-1.8"
  },
  "language_info": {
   "file_extension": ".jl",
   "mimetype": "application/julia",
   "name": "julia",
   "version": "1.8.0-rc1"
  },
  "orig_nbformat": 4,
  "vscode": {
   "interpreter": {
    "hash": "b0fa6594d8f4cbf19f97940f81e996739fb7646882a419484c72d19e05852a7e"
   }
  }
 },
 "nbformat": 4,
 "nbformat_minor": 2
}
