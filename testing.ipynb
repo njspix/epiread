{
 "cells": [
  {
   "cell_type": "code",
   "execution_count": 17,
   "metadata": {},
   "outputs": [
    {
     "name": "stdout",
     "output_type": "stream",
     "text": [
      "Completed analyis of 63 reads in chr1\n",
      "Completed analyis of 37 reads in chr2\n"
     ]
    },
    {
     "data": {
      "text/plain": [
       "Dict{String, SparseMatrixCSC{Int64, Int64}} with 2 entries:\n",
       "  \"chr2\" => sparse([2, 2, 4, 6, 2, 4, 6, 4, 6, 4  …  15, 15, 16, 16, 17, 18, 17…\n",
       "  \"chr1\" => sparse([2, 2, 2, 2, 2, 3, 3, 1, 1, 4  …  23, 24, 25, 26, 27, 21, 22…"
      ]
     },
     "metadata": {},
     "output_type": "display_data"
    }
   ],
   "source": [
    "include(\"./src/parse_file.jl\")"
   ]
  },
  {
   "cell_type": "code",
   "execution_count": 18,
   "metadata": {},
   "outputs": [
    {
     "data": {
      "text/plain": [
       "\"/Volumes/projects/laird/nathan/projects/julia/epiread/testing/part_epiread.bed\""
      ]
     },
     "metadata": {},
     "output_type": "display_data"
    }
   ],
   "source": [
    "path = \"./testing/test_epiread_small.bed\"\n",
    "big_bgz_path = \"/Volumes/projects/laird/nathan/projects/julia/epiread/testing/test_epiread.bed.bgz\"\n",
    "part_path = \"/Volumes/projects/laird/nathan/projects/julia/epiread/testing/part_epiread.bed\"\n"
   ]
  },
  {
   "cell_type": "code",
   "execution_count": 19,
   "metadata": {},
   "outputs": [
    {
     "name": "stdout",
     "output_type": "stream",
     "text": [
      "Completed analyis of 63 reads in chr1\n",
      "Completed analyis of 37 reads in chr2\n"
     ]
    },
    {
     "data": {
      "text/plain": [
       "Dict{String, SparseMatrixCSC{Int64, Int64}} with 2 entries:\n",
       "  \"chr2\" => sparse([2, 2, 4, 6, 2, 4, 6, 4, 6, 4  …  15, 15, 16, 16, 17, 18, 17…\n",
       "  \"chr1\" => sparse([2, 2, 2, 2, 2, 3, 3, 1, 1, 4  …  23, 24, 25, 26, 27, 21, 22…"
      ]
     },
     "metadata": {},
     "output_type": "display_data"
    }
   ],
   "source": [
    "results = analyze_file(path)"
   ]
  },
  {
   "cell_type": "code",
   "execution_count": 26,
   "metadata": {},
   "outputs": [
    {
     "data": {
      "text/plain": [
       "27×631931 SparseMatrixCSC{Int64, Int64} with 105 stored entries:\n",
       "⠀⠀⠀⠀⠀⠀⠀⠀⠈⠀⠀⠈⠉⠀⠀⠀⠀⠀⠀⠀⠀⠀⠀⠀⠀⠀⠀⠀⠀⠀⠀⠀⠀⠈⠀⠀⠀⠒⠂⠐"
      ]
     },
     "metadata": {},
     "output_type": "display_data"
    }
   ],
   "source": [
    "x= results[\"chr1\"]"
   ]
  },
  {
   "cell_type": "code",
   "execution_count": 37,
   "metadata": {},
   "outputs": [
    {
     "data": {
      "text/plain": [
       "27×4 SparseMatrixCSC{Int64, Int64} with 7 stored entries:\n",
       "⢨⢨\n",
       "⠀⠈\n",
       "⠀⠀\n",
       "⠀⠀\n",
       "⠀⠀\n",
       "⠀⠀\n",
       "⠀⠀"
      ]
     },
     "metadata": {},
     "output_type": "display_data"
    }
   ],
   "source": [
    "test = x[:,136617:136620]"
   ]
  },
  {
   "cell_type": "code",
   "execution_count": 58,
   "metadata": {},
   "outputs": [
    {
     "data": {
      "text/plain": [
       "get_unsparse_nonzero_rows (generic function with 1 method)"
      ]
     },
     "metadata": {},
     "output_type": "display_data"
    }
   ],
   "source": [
    "function get_unsparse_nonzero_rows(matrix::SparseMatrixCSC{Int64, Int64})\n",
    "\tnzrows = unique(matrix.rowval)\n",
    "\tif !isempty(nzrows)\n",
    "\t\treturn Matrix(matrix)[nzrows,:]\n",
    "\telse \n",
    "\t\treturn Matrix{Int64}(0, (0, 0))\n",
    "\tend\n",
    "end"
   ]
  },
  {
   "cell_type": "code",
   "execution_count": 87,
   "metadata": {},
   "outputs": [
    {
     "ename": "MethodError",
     "evalue": "MethodError: no method matching Matrix{Int64}(::Int64, ::Tuple{Int64, Int64})\nClosest candidates are:\n  Matrix{T}(!Matched::LinearAlgebra.UniformScaling, ::Tuple{Int64, Int64}) where T at /Applications/Julia-1.8.app/Contents/Resources/julia/share/julia/stdlib/v1.8/LinearAlgebra/src/uniformscaling.jl:496\n  Array{T, N}(!Matched::Nothing, ::Any...) where {T, N} at baseext.jl:42\n  Array{T, N}(!Matched::Missing, ::Any...) where {T, N} at baseext.jl:43\n  ...",
     "output_type": "error",
     "traceback": [
      "MethodError: no method matching Matrix{Int64}(::Int64, ::Tuple{Int64, Int64})\n",
      "Closest candidates are:\n",
      "  Matrix{T}(!Matched::LinearAlgebra.UniformScaling, ::Tuple{Int64, Int64}) where T at /Applications/Julia-1.8.app/Contents/Resources/julia/share/julia/stdlib/v1.8/LinearAlgebra/src/uniformscaling.jl:496\n",
      "  Array{T, N}(!Matched::Nothing, ::Any...) where {T, N} at baseext.jl:42\n",
      "  Array{T, N}(!Matched::Missing, ::Any...) where {T, N} at baseext.jl:43\n",
      "  ...\n",
      "\n",
      "Stacktrace:\n",
      " [1] get_unsparse_nonzero_rows(matrix::SparseMatrixCSC{Int64, Int64})\n",
      "   @ Main ~/Library/CloudStorage/OneDrive-VanAndelInstitute/Desktop/julia/epiread/testing.ipynb:6\n",
      " [2] top-level scope\n",
      "   @ ~/Library/CloudStorage/OneDrive-VanAndelInstitute/Desktop/julia/epiread/testing.ipynb:1"
     ]
    }
   ],
   "source": [
    "get_unsparse_nonzero_rows(x[:,1:1000])"
   ]
  },
  {
   "cell_type": "code",
   "execution_count": 39,
   "metadata": {},
   "outputs": [
    {
     "data": {
      "text/plain": [
       "4×4 Matrix{Int64}:\n",
       " 0  77  0  77\n",
       " 0  77  0  77\n",
       " 0  77  0  77\n",
       " 0   0  0  85"
      ]
     },
     "metadata": {},
     "output_type": "display_data"
    }
   ],
   "source": [
    "b = get_unsparse_nonzero_rows(test)"
   ]
  },
  {
   "cell_type": "code",
   "execution_count": 62,
   "metadata": {},
   "outputs": [
    {
     "data": {
      "text/plain": [
       "matrix_to_epiallele_vector (generic function with 1 method)"
      ]
     },
     "metadata": {},
     "output_type": "display_data"
    }
   ],
   "source": [
    "function matrix_to_epiallele_vector(mat::Matrix{Int64})\n",
    "\tvec = Vector{Epiallele}(undef, size(mat, 1))\n",
    "\tfor i in 1:size(mat, 1)\n",
    "\t\tvec[i] = Epiallele(mat[i,:])\n",
    "\tend\n",
    "\treturn vec\n",
    "end\n"
   ]
  },
  {
   "cell_type": "code",
   "execution_count": 63,
   "metadata": {},
   "outputs": [
    {
     "data": {
      "text/plain": [
       "4-element Vector{Epiallele}:\n",
       " [0, 77, 0, 77]\n",
       " [0, 77, 0, 77]\n",
       " [0, 77, 0, 77]\n",
       " [0, 0, 0, 85]"
      ]
     },
     "metadata": {},
     "output_type": "display_data"
    }
   ],
   "source": [
    "matrix_to_epiallele_vector(b)"
   ]
  },
  {
   "cell_type": "code",
   "execution_count": 149,
   "metadata": {},
   "outputs": [
    {
     "data": {
      "text/plain": [
       "3×4 Matrix{Int64}:\n",
       " 0  77   0  78\n",
       " 0  77  15  85\n",
       " 0  78   0  85"
      ]
     },
     "metadata": {},
     "output_type": "display_data"
    }
   ],
   "source": [
    "a = [0 77 0 78; 0 77 15 85; 0 78 0 85]\n",
    "a_vec = matrix_to_epiallele_vector(a)\n",
    "display(a)"
   ]
  },
  {
   "cell_type": "code",
   "execution_count": 151,
   "metadata": {},
   "outputs": [
    {
     "data": {
      "text/plain": [
       "3-element Vector{Epiallele}:\n",
       " [0, 0, 0, 0]\n",
       " [0, 0, 0, 0]\n",
       " [0, 0, 0, 0]"
      ]
     },
     "metadata": {},
     "output_type": "display_data"
    },
    {
     "data": {
      "text/plain": [
       "3-element Vector{Epiallele}:\n",
       " [0, 77, 0, 78]\n",
       " [0, 0, 0, 0]\n",
       " [0, 0, 0, 0]"
      ]
     },
     "metadata": {},
     "output_type": "display_data"
    },
    {
     "data": {
      "text/plain": [
       "3-element Vector{Epiallele}:\n",
       " [0, 77, 0, 78]\n",
       " [0, 77, 15, 85]\n",
       " [0, 0, 0, 0]"
      ]
     },
     "metadata": {},
     "output_type": "display_data"
    },
    {
     "name": "stdout",
     "output_type": "stream",
     "text": [
      "[0, 77, 0, 78] is different from all previously seen alleles\n",
      "[0, 77, 15, 85] is different from all previously seen alleles\n",
      "seen [0, 78, 0, 85] already\n"
     ]
    },
    {
     "data": {
      "text/plain": [
       "2"
      ]
     },
     "metadata": {},
     "output_type": "display_data"
    }
   ],
   "source": [
    "count_epialleles(a_vec)"
   ]
  },
  {
   "cell_type": "code",
   "execution_count": 140,
   "metadata": {},
   "outputs": [
    {
     "data": {
      "text/plain": [
       "diff_from_all_epialleles (generic function with 1 method)"
      ]
     },
     "metadata": {},
     "output_type": "display_data"
    }
   ],
   "source": [
    "function diff_from_all_epialleles(needle::Epiallele, haystack::Vector{Epiallele})\n",
    "\tfor i in 1:length(haystack)\n",
    "\t\tif needle == haystack[i]\n",
    "\t\t\treturn false\n",
    "\t\tend\n",
    "\tend\n",
    "\treturn true\n",
    "end"
   ]
  },
  {
   "cell_type": "code",
   "execution_count": 153,
   "metadata": {},
   "outputs": [
    {
     "data": {
      "text/plain": [
       "count_epialleles (generic function with 1 method)"
      ]
     },
     "metadata": {},
     "output_type": "display_data"
    }
   ],
   "source": [
    "function count_epialleles(epiallele_vec::Vector{Epiallele})\n",
    "\tseen = fill(zeros(Epiallele, length(epiallele_vec[1])), length(epiallele_vec))\n",
    "\tunique = 0\n",
    "\tfor i in 1:length(epiallele_vec)\n",
    "\t\tdiff_from_all_epialleles(epiallele_vec[i], seen) && (unique += 1)\n",
    "\t\tseen[i] = epiallele_vec[i]\n",
    "\tend\n",
    "\treturn unique\n",
    "end"
   ]
  },
  {
   "cell_type": "code",
   "execution_count": 156,
   "metadata": {},
   "outputs": [
    {
     "name": "stdout",
     "output_type": "stream",
     "text": [
      "a = [0 0 77 0]\n",
      "found 1 alleles\n",
      "a = [0 0 0 77]\n",
      "found 1 alleles\n",
      "a = [0 77 0 77]\n",
      "found 1 alleles\n",
      "a = [0 0 0 77]\n",
      "found 1 alleles\n",
      "a = [77 0 0 0]\n",
      "found 1 alleles\n",
      "a = [0 77 0 0]\n",
      "found 1 alleles\n",
      "a = [0 0 0 77]\n",
      "found 1 alleles\n",
      "a = [0 77 0 0]\n",
      "found 1 alleles\n",
      "a = [0 0 77 0]\n",
      "found 1 alleles\n",
      "a = [0 0 77 0; 0 0 77 0; 0 0 77 0]\n",
      "found 1 alleles\n",
      "a = [0 77 0 77; 0 77 0 77; 0 77 0 77; 0 0 0 85]\n",
      "found 2 alleles\n",
      "a = [0 0 0 77; 0 0 0 77; 0 0 0 77; 0 0 0 77]\n",
      "found 1 alleles\n",
      "a = [0 0 0 85]\n",
      "found 1 alleles\n",
      "a = [0 85 0 0]\n",
      "found 1 alleles\n",
      "a = [0 77 0 0; 0 77 0 0]\n",
      "found 1 alleles\n",
      "a = [85 0 0 0; 85 0 0 0]\n",
      "found 1 alleles\n"
     ]
    },
    {
     "name": "stdout",
     "output_type": "stream",
     "text": [
      "a = [0 0 0 77]\n",
      "found 1 alleles\n",
      "a = [0 85 0 0]\n",
      "found 1 alleles\n",
      "a = [0 77 0 0]\n",
      "found 1 alleles\n",
      "a = [0 77 0 0; 0 77 0 0]\n",
      "found 1 alleles\n"
     ]
    },
    {
     "name": "stdout",
     "output_type": "stream",
     "text": [
      "a = [0 85 0 0]\n",
      "found 1 alleles\n",
      "a = [0 77 0 0; 0 77 0 0]\n",
      "found 1 alleles\n",
      "a = [0 0 77 0; 0 0 77 0]\n",
      "found 1 alleles\n"
     ]
    }
   ],
   "source": [
    "window_size = 4\n",
    "\n",
    "for i in 1:window_size:200000\n",
    "\ttry\n",
    "\t\ta = get_unsparse_nonzero_rows(x[:,i:i+window_size-1])\n",
    "\t\tif !isempty(a)\n",
    "\t\t\t@show a\n",
    "\t\t\tn = count_epialleles(matrix_to_epiallele_vector(a))\n",
    "\t\t\tprintln(\"found $n alleles\")\n",
    "\t\tend\n",
    "\tcatch\n",
    "\tend\n",
    "end"
   ]
  },
  {
   "cell_type": "code",
   "execution_count": 157,
   "metadata": {},
   "outputs": [
    {
     "data": {
      "text/plain": [
       "'U': ASCII/Unicode U+0055 (category Lu: Letter, uppercase)"
      ]
     },
     "metadata": {},
     "output_type": "display_data"
    }
   ],
   "source": [
    "Char(85)"
   ]
  },
  {
   "cell_type": "code",
   "execution_count": 78,
   "metadata": {},
   "outputs": [],
   "source": [
    "#= We need to set up this struct to allow for quick comparisons between epireads. \n",
    "\tIf they only differ at 'N' bases, they should be treated as identical =#\n",
    "\n",
    "struct Epiallele <: AbstractVector{Int64}\n",
    "\tx::Vector{Int64}\n",
    "end\n",
    "\n",
    "function Base.size(x::Epiallele)\n",
    "\treturn size(x.x)\n",
    "end\n",
    "\n",
    "function Base.getindex(x::Epiallele, i::Int64)\n",
    "\treturn x.x[i]\n",
    "end\n",
    "\n",
    "function Base.:(==)(x::Epiallele, y::Epiallele) \n",
    "\t# if the epialleles are different lengths, return false\n",
    "\tif length(x.x) != length(y.x)\n",
    "\t\treturn false\n",
    "\tend\n",
    "\t# compare elementwise; if only difference is at N's (78), return true\n",
    "\tfor i in 1:length(x.x)\n",
    "\t\tif x.x[i] != y.x[i] && x.x[i] != 78 && y.x[i] != 78\n",
    "\t\t\treturn false\n",
    "\t\tend\n",
    "\tend\n",
    "\treturn true\n",
    "end\n",
    "\n",
    "function Base.isequal(x::Epiallele, y::Epiallele)\n",
    "\treturn x == y\n",
    "end\n",
    "\n",
    "# Zero initializer for Epiallele\n",
    "function Base.zeros(::Type{Epiallele}, n::Int64)\n",
    "\treturn Epiallele(zeros(Int64, n))\n",
    "end\n"
   ]
  },
  {
   "cell_type": "code",
   "execution_count": 10,
   "metadata": {},
   "outputs": [
    {
     "data": {
      "text/plain": [
       "4-element Epiallele:\n",
       " 0\n",
       " 0\n",
       " 0\n",
       " 0"
      ]
     },
     "metadata": {},
     "output_type": "display_data"
    }
   ],
   "source": [
    "test = Epiallele([0, 78, 0, 75, 0])\n",
    "test2 = Epiallele([0, 0, 0, 78])\n",
    "test3 = Epiallele([0, 0, 0, 0])\n"
   ]
  },
  {
   "cell_type": "code",
   "execution_count": 84,
   "metadata": {},
   "outputs": [
    {
     "data": {
      "text/plain": [
       "2-element Vector{Epiallele}:\n",
       " [0, 0, 0, 0]\n",
       " [0, 0, 0, 0]"
      ]
     },
     "metadata": {},
     "output_type": "display_data"
    }
   ],
   "source": []
  },
  {
   "cell_type": "code",
   "execution_count": null,
   "metadata": {},
   "outputs": [],
   "source": [
    "#= What do we do with different characters that could be in the results?\n",
    "\tM/U - keep\n",
    "\tO/S - ignore for now\n",
    "\tACGT - inform different genetic alleles, keep \n",
    "\tN - specific to the read; a better read of the same locus may have a base here. Treat as equivalent to 0 and ACGT\n",
    "\tQ - interesting but doesn't pertain to epialleles. Discard. \n",
    "\n",
    "# of epialleles is sum of different column values, minus number of N values\n",
    "=#"
   ]
  },
  {
   "cell_type": "code",
   "execution_count": 7,
   "metadata": {},
   "outputs": [
    {
     "data": {
      "text/plain": [
       "10-element Vector{Int64}:\n",
       " 77\n",
       " 85\n",
       " 79\n",
       " 83\n",
       " 65\n",
       " 67\n",
       " 71\n",
       " 84\n",
       " 78\n",
       " 81"
      ]
     },
     "metadata": {},
     "output_type": "display_data"
    }
   ],
   "source": [
    "Int.(only.(collect(\"MUOSACGTNQ\")))"
   ]
  },
  {
   "cell_type": "code",
   "execution_count": 13,
   "metadata": {},
   "outputs": [],
   "source": [
    "using BenchmarkTools"
   ]
  },
  {
   "cell_type": "code",
   "execution_count": 94,
   "metadata": {},
   "outputs": [
    {
     "data": {
      "text/plain": [
       "Array"
      ]
     },
     "metadata": {},
     "output_type": "display_data"
    }
   ],
   "source": [
    "Array"
   ]
  },
  {
   "cell_type": "code",
   "execution_count": 73,
   "metadata": {},
   "outputs": [
    {
     "data": {
      "text/plain": [
       "4-element Epiallele:\n",
       " 0\n",
       " 0\n",
       " 0\n",
       " 0"
      ]
     },
     "metadata": {},
     "output_type": "display_data"
    }
   ],
   "source": [
    "zeros(Epiallele, 4)"
   ]
  },
  {
   "cell_type": "code",
   "execution_count": null,
   "metadata": {},
   "outputs": [],
   "source": []
  }
 ],
 "metadata": {
  "kernelspec": {
   "display_name": "Julia 1.8.0-rc1",
   "language": "julia",
   "name": "julia-1.8"
  },
  "language_info": {
   "file_extension": ".jl",
   "mimetype": "application/julia",
   "name": "julia",
   "version": "1.8.0-rc1"
  },
  "orig_nbformat": 4,
  "vscode": {
   "interpreter": {
    "hash": "b0fa6594d8f4cbf19f97940f81e996739fb7646882a419484c72d19e05852a7e"
   }
  }
 },
 "nbformat": 4,
 "nbformat_minor": 2
}
