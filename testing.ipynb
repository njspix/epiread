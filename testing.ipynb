{
 "cells": [
  {
   "cell_type": "code",
   "execution_count": 1,
   "metadata": {},
   "outputs": [
    {
     "data": {
      "text/plain": [
       "process_file (generic function with 1 method)"
      ]
     },
     "metadata": {},
     "output_type": "display_data"
    }
   ],
   "source": [
    "include(\"./src/parse_file.jl\")"
   ]
  },
  {
   "cell_type": "code",
   "execution_count": 2,
   "metadata": {},
   "outputs": [
    {
     "data": {
      "text/plain": [
       "\"/Volumes/projects/laird/nathan/projects/julia/epiread/testing/part_epiread.bed\""
      ]
     },
     "metadata": {},
     "output_type": "display_data"
    }
   ],
   "source": [
    "path = \"./testing/test_epiread_small.bed\"\n",
    "big_bgz_path = \"/Volumes/projects/laird/nathan/projects/julia/epiread/testing/test_epiread.bed.bgz\"\n",
    "part_path = \"/Volumes/projects/laird/nathan/projects/julia/epiread/testing/part_epiread.bed\"\n"
   ]
  },
  {
   "cell_type": "code",
   "execution_count": 3,
   "metadata": {},
   "outputs": [
    {
     "name": "stderr",
     "output_type": "stream",
     "text": [
      "Parsed 63 reads in chr1\n",
      "Completed analyis of 37 reads in chr2\n"
     ]
    },
    {
     "data": {
      "text/plain": [
       "Dict{String, SparseMatrixCSC{Int64, Int64}} with 2 entries:\n",
       "  \"chr2\" => sparse([2, 2, 4, 6, 2, 4, 6, 4, 6, 4  …  15, 15, 16, 16, 17, 18, 17…\n",
       "  \"chr1\" => sparse([2, 2, 2, 2, 2, 3, 3, 1, 1, 4  …  23, 24, 25, 26, 27, 21, 22…"
      ]
     },
     "metadata": {},
     "output_type": "display_data"
    }
   ],
   "source": [
    "results = parse_infile(path)"
   ]
  },
  {
   "cell_type": "code",
   "execution_count": 4,
   "metadata": {},
   "outputs": [
    {
     "data": {
      "text/plain": [
       "27×631931 SparseMatrixCSC{Int64, Int64} with 105 stored entries:\n",
       "⠀⠀⠀⠀⠀⠀⠀⠀⠈⠀⠀⠈⠉⠀⠀⠀⠀⠀⠀⠀⠀⠀⠀⠀⠀⠀⠀⠀⠀⠀⠀⠀⠀⠈⠀⠀⠀⠒⠂⠐"
      ]
     },
     "metadata": {},
     "output_type": "display_data"
    }
   ],
   "source": [
    "x = results[\"chr1\"]"
   ]
  },
  {
   "cell_type": "code",
   "execution_count": 5,
   "metadata": {},
   "outputs": [
    {
     "data": {
      "text/plain": [
       "tally_epialles (generic function with 1 method)"
      ]
     },
     "metadata": {},
     "output_type": "display_data"
    }
   ],
   "source": [
    "function tally_epialles(matrix::SparseMatrixCSC{Int64, Int64}, chr::String; window_size = 4::Int)\n",
    "    n_bases = size(matrix, 2)\n",
    "    current_bed_line = (0::Int, 0::Int) # (start, n_alleles)\n",
    "    for i in 1:window_size:n_bases\n",
    "        if i % 100000 == 1\n",
    "            println(Base.stderr, \"Tallying epialleles on $(chr) at position $(i) of $(n_bases)\")\n",
    "            flush(stdout)\n",
    "        end\n",
    "        upper_limit = minimum([i+window_size-1, n_bases])\n",
    "        a = get_unsparse_nonzero_rows(matrix[:,i:upper_limit])\n",
    "\n",
    "        n = 0\n",
    "        if !isempty(a)\n",
    "            n = count_epialleles(matrix_to_epiallele_vector(a))\n",
    "        end\n",
    "\n",
    "        if n != current_bed_line[2]\n",
    "            # println(\"$(chr)\\t$(current_bed_line[1])\\t$(i-1)\\t$(current_bed_line[2])\")\n",
    "            current_bed_line = (i-1, n)\n",
    "        end\n",
    "    end\n",
    "end"
   ]
  },
  {
   "cell_type": "code",
   "execution_count": 16,
   "metadata": {},
   "outputs": [
    {
     "name": "stderr",
     "output_type": "stream",
     "text": [
      "Tallying epialleles on chr1 at position 1 of 631931\n",
      "Tallying epialleles on chr1 at position 100001 of 631931\n",
      "Tallying epialleles on chr1 at position 200001 of 631931\n",
      "Tallying epialleles on chr1 at position 300001 of 631931\n",
      "Tallying epialleles on chr1 at position 400001 of 631931\n",
      "Tallying epialleles on chr1 at position 500001 of 631931\n",
      "Tallying epialleles on chr1 at position 600001 of 631931\n"
     ]
    },
    {
     "ename": "UndefVarError",
     "evalue": "UndefVarError: vscode not defined",
     "output_type": "error",
     "traceback": [
      "UndefVarError: vscode not defined\n",
      "\n",
      "Stacktrace:\n",
      " [1] top-level scope\n",
      "   @ ~/.vscode/extensions/julialang.language-julia-1.7.13/scripts/packages/VSCodeServer/src/profiler.jl:135"
     ]
    }
   ],
   "source": [
    "@profview tally_epialles(x, \"chr1\")"
   ]
  },
  {
   "cell_type": "code",
   "execution_count": null,
   "metadata": {},
   "outputs": [],
   "source": [
    "function get_unsparse_nonzero_rows(matrix::SparseMatrixCSC{Int64, Int64})\n",
    "\tnzrows = unique(matrix.rowval)\n",
    "\tif !isempty(nzrows)\n",
    "\t\treturn Matrix(matrix)[nzrows,:]\n",
    "\telse \n",
    "\t\treturn zeros(Int64, (0,0))\n",
    "\tend\n",
    "end"
   ]
  },
  {
   "cell_type": "code",
   "execution_count": 21,
   "metadata": {},
   "outputs": [
    {
     "name": "stdout",
     "output_type": "stream",
     "text": [
      "MethodInstance for get_unsparse_nonzero_rows(::SparseMatrixCSC{Int64, Int64})\n",
      "  from get_unsparse_nonzero_rows(matrix::SparseMatrixCSC{Int64, Int64}) in Main at /Volumes/projects/laird/nathan/projects/julia/epiread/src/parse_file.jl:335\n",
      "Arguments\n",
      "  #self#\u001b[36m::Core.Const(get_unsparse_nonzero_rows)\u001b[39m\n",
      "  matrix\u001b[36m::SparseMatrixCSC{Int64, Int64}\u001b[39m\n",
      "Locals\n",
      "  nzrows\u001b[36m::Vector{Int64}\u001b[39m\n",
      "Body\u001b[36m::Matrix{Int64}\u001b[39m\n",
      "\u001b[90m1 ─\u001b[39m %1  = Base.getproperty(matrix, :rowval)\u001b[36m::Vector{Int64}\u001b[39m\n",
      "\u001b[90m│  \u001b[39m       (nzrows = Main.unique(%1))\n",
      "\u001b[90m│  \u001b[39m %3  = Main.isempty(nzrows)\u001b[36m::Bool\u001b[39m\n",
      "\u001b[90m│  \u001b[39m %4  = !%3\u001b[36m::Bool\u001b[39m\n",
      "\u001b[90m└──\u001b[39m       goto #3 if not %4\n",
      "\u001b[90m2 ─\u001b[39m %6  = Main.Matrix(matrix)\u001b[36m::Matrix{Int64}\u001b[39m\n",
      "\u001b[90m│  \u001b[39m %7  = nzrows\u001b[36m::Vector{Int64}\u001b[39m\n",
      "\u001b[90m│  \u001b[39m %8  = Base.getindex(%6, %7, Main.:(:))\u001b[36m::Matrix{Int64}\u001b[39m\n",
      "\u001b[90m└──\u001b[39m       return %8\n",
      "\u001b[90m3 ─\u001b[39m %10 = Core.tuple(0, 0)\u001b[36m::Core.Const((0, 0))\u001b[39m\n",
      "\u001b[90m│  \u001b[39m %11 = Main.zeros(Main.Int64, %10)\u001b[36m::Matrix{Int64}\u001b[39m\n",
      "\u001b[90m└──\u001b[39m       return %11\n",
      "\n"
     ]
    }
   ],
   "source": [
    "@code_warntype get_unsparse_nonzero_rows(x[:,1:4])"
   ]
  },
  {
   "cell_type": "code",
   "execution_count": 22,
   "metadata": {},
   "outputs": [
    {
     "name": "stderr",
     "output_type": "stream",
     "text": [
      "┌ Warning: There were no samples collected.\n",
      "│ Run your program longer (perhaps by running it multiple times),\n",
      "│ or adjust the delay between samples with `Profile.init()`.\n",
      "└ @ Profile /Users/administrator/.julia/scratchspaces/a66863c6-20e8-4ff4-8a62-49f30b1f605e/agent-cache/default-macmini-aarch64-1.0/build/default-macmini-aarch64-1-0/julialang/julia-release-1-dot-8/usr/share/julia/stdlib/v1.8/Profile/src/Profile.jl:1208\n"
     ]
    }
   ],
   "source": [
    "@profview get_unsparse_nonzero_rows(x[:,1:4])"
   ]
  },
  {
   "cell_type": "code",
   "execution_count": null,
   "metadata": {},
   "outputs": [],
   "source": []
  }
 ],
 "metadata": {
  "kernelspec": {
   "display_name": "Julia 1.8.0-rc1",
   "language": "julia",
   "name": "julia-1.8"
  },
  "language_info": {
   "file_extension": ".jl",
   "mimetype": "application/julia",
   "name": "julia",
   "version": "1.8.0-rc1"
  },
  "orig_nbformat": 4,
  "vscode": {
   "interpreter": {
    "hash": "b0fa6594d8f4cbf19f97940f81e996739fb7646882a419484c72d19e05852a7e"
   }
  }
 },
 "nbformat": 4,
 "nbformat_minor": 2
}
