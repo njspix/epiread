{
 "cells": [
  {
   "cell_type": "code",
   "execution_count": 1,
   "metadata": {},
   "outputs": [
    {
     "data": {
      "text/plain": [
       "Main.EPIREAD"
      ]
     },
     "metadata": {},
     "output_type": "display_data"
    }
   ],
   "source": [
    "include(\"./src/EPIREAD.jl\")"
   ]
  },
  {
   "cell_type": "code",
   "execution_count": 4,
   "metadata": {},
   "outputs": [
    {
     "data": {
      "text/plain": [
       "\"/Volumes/projects/laird/nathan/projects/julia/epiread/testing/part_epiread.bed\""
      ]
     },
     "metadata": {},
     "output_type": "display_data"
    }
   ],
   "source": [
    "path = \"./testing/test_epiread_small.bed\"\n",
    "big_bgz_path = \"/Volumes/projects/laird/nathan/projects/julia/epiread/testing/test_epiread.bed.bgz\"\n",
    "part_path = \"/Volumes/projects/laird/nathan/projects/julia/epiread/testing/part_epiread.bed\"\n"
   ]
  },
  {
   "cell_type": "code",
   "execution_count": 5,
   "metadata": {},
   "outputs": [
    {
     "data": {
      "text/plain": [
       "get_leftmost_chromend (generic function with 1 method)"
      ]
     },
     "metadata": {},
     "output_type": "display_data"
    }
   ],
   "source": [
    "# Find any reads in the cache that are too far to the left, or on a different chr than provided\n",
    "function clean_record_cache!(cache::Vector{EPIREAD.Record}, max_end::Int64, new_chr::String)::Vector{EPIREAD.Record}\n",
    "    reads_to_analyze = Vector{EPIREAD.Record}()\n",
    "    for (i, record) in enumerate(cache)\n",
    "        if (EPIREAD.chromend(record) < max_end) || (EPIREAD.chrom(record) ≠ new_chr)\n",
    "            push!(reads_to_analyze, popat!(cache, i))\n",
    "        end\n",
    "    end\n",
    "    return reads_to_analyze\n",
    "end\n",
    "\n",
    "function get_leftmost_chromend(cache::Vector{EPIREAD.Record})::Int64\n",
    "    if length(cache) > 0\n",
    "        return minimum(EPIREAD.chromend.(cache))\n",
    "    else\n",
    "        return Int64(0)\n",
    "    end\n",
    "end"
   ]
  },
  {
   "cell_type": "code",
   "execution_count": 6,
   "metadata": {},
   "outputs": [
    {
     "data": {
      "text/plain": [
       "update_vecs (generic function with 1 method)"
      ]
     },
     "metadata": {},
     "output_type": "display_data"
    }
   ],
   "source": [
    "function parse_rle(rle::String)\n",
    "\treps = parse.(Int16, map(x-> x == \"\" ? \"1\" : x, split(rle, r\"[[:alpha:]]\")[2:end]))\n",
    "\tbases = only.(split(replace(rle, r\"[0-9]\" => \"\"), \"\"))\n",
    "\treturn zip(bases, reps)\n",
    "end \n",
    "\n",
    "#Note that if we call EPIREAD.chromstart(record) to get the start position of the read, it is 1-based, end-inclusive (*on-base*). Try to match this here. \n",
    "function get_feature_pos_in_read(rle::String)\n",
    "\tJ = Vector{Int64}()\n",
    "\tV = Vector{Char}()\n",
    "\tcounter = 0\n",
    "\n",
    "\tfor (base, rep) in parse_rle(rle)\n",
    "\t\tif occursin(base, \"FPx\") # nothing base\n",
    "\t\t\tcounter += rep\n",
    "\t\telseif occursin(base, \"MUOSACGTN\") # feature base\n",
    "\t\t\tfor i in 1:rep\n",
    "\t\t\t\tcounter += 1\n",
    "\t\t\t\tpush!(J, copy(counter))\n",
    "\t\t\t\tpush!(V, base)\n",
    "\t\t\tend\n",
    "\t\telseif occursin(base, \"acgtn\") # insertion base\n",
    "\t\t\t# handle this better in the future, but for right now keep everything aligned with reference\n",
    "\t\telse #must be a deletion base\n",
    "\t\t\t@assert base == 'D'\n",
    "\t\t\t# handle this better in the future, but for right now keep everything aligned with reference\n",
    "\t\t\tcounter += rep\n",
    "\t\tend\n",
    "\tend\n",
    "\n",
    "\treturn (J, V)\n",
    "end\n",
    "\n",
    "function get_feature_pos_absolute(rle::String, read_start::Int64)\n",
    "\tJ, V = get_feature_pos_in_read(rle)\n",
    "\treturn (J.+read_start.-1, V) # we have to subtract one, as this is 1-start, fully closed\n",
    "end\n",
    "\n",
    "function update_vecs(master_I::Vector{Int64}, master_J::Vector{Int64}, master_V::Vector{Char}, J::Vector{Int64}, V::Vector{Char})\n",
    "\tread_num = length(master_I) == 0 ? Int64(1) : master_I[end]+1\n",
    "\tappend!(master_I, fill(read_num, length(J)))\n",
    "\tappend!(master_J, J)\n",
    "\tappend!(master_V, V)\n",
    "\treturn nothing\n",
    "end"
   ]
  },
  {
   "cell_type": "code",
   "execution_count": 7,
   "metadata": {},
   "outputs": [
    {
     "data": {
      "text/plain": [
       "analyze_record_pair (generic function with 1 method)"
      ]
     },
     "metadata": {},
     "output_type": "display_data"
    }
   ],
   "source": [
    "function analyze_read(read::EPIREAD.Record, master_I::Vector{Int64}, master_J::Vector{Int64}, master_V::Vector{Char})\n",
    "\t# println(\"analyzing read $(EPIREAD.name(read))/$(EPIREAD.readnum(read)) ($(EPIREAD.chrom(read))): $(EPIREAD.cg_rle(read))\")\n",
    "\tJ, V = get_feature_pos_absolute(EPIREAD.cg_rle(read), EPIREAD.chromstart(read))\n",
    "\tupdate_vecs(master_I, master_J, master_V, J, V)\n",
    "\treturn nothing\n",
    "end\n",
    "\n",
    "allsame(x) = all(y->y==first(x),x)\n",
    "\n",
    "function are_overlapped(read1::EPIREAD.Record, read2::EPIREAD.Record)\n",
    "\trightmost_start = maximum([EPIREAD.chromstart(read1), EPIREAD.chromstart(read2)])\n",
    "\tleftmost_end = minimum([EPIREAD.chromend(read1), EPIREAD.chromend(read2)])\n",
    "\treturn leftmost_end ≥ rightmost_start # since were' in 1-based, fully-closed coords (aka on-base coords), reads are overlapped if the start coord of one equals the end coord of the other\n",
    "end\n",
    "\n",
    "# TODO! need to fix (doesn't handle case where reads overlap)\n",
    "function analyze_record_pair(read1::EPIREAD.Record, read2::EPIREAD.Record, master_I::Vector{Int64}, master_J::Vector{Int64}, master_V::Vector{Char})\n",
    "\tif !allsame(EPIREAD.chrom.((read1, read2)))\n",
    "\t\tfor each in (read1, read2)\n",
    "\t\t\tanalyze_read(each, master_I, master_J, master_V)\n",
    "\t\tend\n",
    "\telse \n",
    "\t\tif !are_overlapped(read1, read2)\n",
    "\t\t\tfor each in (read1, read2)\n",
    "\t\t\t\tanalyze_read(each, master_I, master_J, master_V)\n",
    "\t\t\tend\n",
    "\t\telse\n",
    "\t\t\t# handle overlapping reads\n",
    "\t\t\tprintln(\"Found overlapping reads!! $(EPIREAD.name(read1))\")\n",
    "\t\tend \n",
    "\tend\n",
    "end\n"
   ]
  },
  {
   "cell_type": "code",
   "execution_count": 8,
   "metadata": {},
   "outputs": [],
   "source": [
    "# Reads must be coordinate-sorted, so read pairs might not be adjacent in the file. \n",
    "# Need to set a parameter (insert size) to stop looking for mate pair of a read\n",
    "\n",
    "#= \n",
    "Step through reads, one at a time. When we first see a read, we don't know if we'll find a mate for it. \n",
    "So we put it into the 'read cache' for a moment. We then keep reading. For each new read we find, we \n",
    "perform two checks:\n",
    "1. if the chromend of the first (leftmost) read in the cache is more than (max_isize) bp away from the chromstart\n",
    "of the read we're looking at, we are 'out of pairing range'. We take this opportunity to go through the cache\n",
    "and purge any reads that are impossible to pair anymore, putting them in the 'analyze' queue. We also push our current read to the cache.\n",
    "2. if the name of the read we're looking at matches the name of a read in the cache, we pull that read out and analyze it with the current read.\n",
    "(also should check that chrom stays the same...!)\n",
    "=# \n",
    "\n",
    "\n",
    "\n"
   ]
  },
  {
   "cell_type": "code",
   "execution_count": 9,
   "metadata": {},
   "outputs": [
    {
     "data": {
      "text/plain": [
       "test2 (generic function with 1 method)"
      ]
     },
     "metadata": {},
     "output_type": "display_data"
    }
   ],
   "source": [
    "using SparseArrays\n",
    "\n",
    "\n",
    "# TODO! Need to watch out for chromosome switching!!!\n",
    "function test2(path; max_isize = 1000)\n",
    "\n",
    "    I,J,V = Vector{Int64}(), Vector{Int64}(), Vector{Char}()\n",
    "\n",
    "    record_cache = Vector{EPIREAD.Record}()\n",
    "    reader = EPIREAD.Reader(path)\n",
    "\n",
    "    # Pre-allocate record.\n",
    "    record = EPIREAD.Record()\n",
    "    i = 0\n",
    "    last_chr = String(\"\")\n",
    "    while !eof(reader)\n",
    "    # while i < 1000\n",
    "        empty!(record)\n",
    "        read!(reader, record)\n",
    "        name = EPIREAD.name(record)\n",
    "        chromstart = EPIREAD.chromstart(record)\n",
    "        current_chr = EPIREAD.chrom(record)\n",
    "        \n",
    "        # Find the furthest-left *end* coordinate of all reads in the cache (if it is too far away from the beginning of this read, we'll never be able to pair to it)\n",
    "        leftmost_chromend = get_leftmost_chromend(record_cache)\n",
    "        # Test as above, and also check if we're on a new chr.\n",
    "        if ( (leftmost_chromend < (chromstart - max_isize)) && (leftmost_chromend > 0) ) || ( (last_chr ≠ current_chr) && (last_chr ≠ \"\") )\n",
    "            # If either of the above is true, get all the un-pair-able reads out of the cache and analyze them:\n",
    "            # println(\"cleaning cache because min_end $leftmost_chromend is more than $max_isize away from $chromstart or because last-seen $(last_chr) is different from current $(EPIREAD.chrom(record)) (read $(name))\")\n",
    "            for each in clean_record_cache!(record_cache, chromstart - max_isize, EPIREAD.chrom(record))\n",
    "                analyze_read(each, I, J, V)\n",
    "            end\n",
    "        end\n",
    "        \n",
    "        # Ok, any read still in the cache is fair game to pair with our current read. Let's see if we can find a match:\n",
    "        cached_names = EPIREAD.name.(record_cache)\n",
    "        if name in cached_names \n",
    "            pair_record = popat!(record_cache, findfirst(isequal(name), cached_names))\n",
    "            analyze_record_pair(record, pair_record, I, J, V)\n",
    "\n",
    "        # Ok, we couldn't find a match. Save this read for later (maybe its match just hasn't been read yet!)\n",
    "        else\n",
    "            push!(record_cache, copy(record))\n",
    "        end\n",
    "        i += 1\n",
    "        last_chr = current_chr\n",
    "    end\n",
    "    println(\"Finished processing $(i) reads\")\n",
    "    # Finally, close the reader.\n",
    "    close(reader)\n",
    "    for each in record_cache\n",
    "        analyze_read(each, I, J, V)\n",
    "    end\n",
    "    return sparse(I, J, V)\n",
    "end\n"
   ]
  },
  {
   "cell_type": "code",
   "execution_count": 10,
   "metadata": {},
   "outputs": [
    {
     "name": "stdout",
     "output_type": "stream",
     "text": [
      "Found overlapping reads!! A00426:227:H7KMJDMXY:2:2205:19551:25081\n",
      "Found overlapping reads!! A00426:227:H7KMJDMXY:2:1331:6994:10034\n",
      "Found overlapping reads!! A00426:227:H7KMJDMXY:2:2205:14642:2456\n",
      "Found overlapping reads!! A00426:227:H7KMJDMXY:2:1437:4255:21261\n",
      "Found overlapping reads!! A00426:227:H7KMJDMXY:2:2351:20627:7091\n",
      "Found overlapping reads!! A00426:227:H7KMJDMXY:2:2305:21938:14121\n",
      "Found overlapping reads!! A00426:227:H7KMJDMXY:2:1309:16649:34272\n",
      "Found overlapping reads!! A00426:227:H7KMJDMXY:2:2435:11749:27320\n",
      "Found overlapping reads!! A00426:227:H7KMJDMXY:2:1103:3667:6026\n",
      "Found overlapping reads!! A00426:227:H7KMJDMXY:2:1161:19334:7326\n",
      "Found overlapping reads!! A00426:227:H7KMJDMXY:2:1146:5954:29121\n",
      "Found overlapping reads!! A00426:227:H7KMJDMXY:2:2265:27299:33270\n",
      "Found overlapping reads!! A00426:227:H7KMJDMXY:2:2472:13096:1658\n",
      "Found overlapping reads!! A00426:227:H7KMJDMXY:2:1102:17318:18176\n",
      "Found overlapping reads!! A00426:227:H7KMJDMXY:2:1184:28483:31313\n",
      "Found overlapping reads!! A00426:227:H7KMJDMXY:2:2182:8531:9721\n",
      "Found overlapping reads!! A00426:227:H7KMJDMXY:2:1138:31937:11960\n",
      "Found overlapping reads!! A00426:227:H7KMJDMXY:2:2377:21920:12649\n",
      "Found overlapping reads!! A00426:227:H7KMJDMXY:2:2434:22354:13401\n",
      "Found overlapping reads!! A00426:227:H7KMJDMXY:2:1267:32931:29340\n",
      "Found overlapping reads!! A00426:227:H7KMJDMXY:2:1155:20889:19914\n",
      "Found overlapping reads!! A00426:227:H7KMJDMXY:2:2346:28818:25473\n",
      "Found overlapping reads!! A00426:227:H7KMJDMXY:2:1268:24840:16673\n",
      "Found overlapping reads!! A00426:227:H7KMJDMXY:2:2408:24089:18818\n",
      "Found overlapping reads!! A00426:227:H7KMJDMXY:2:1286:9923:22842\n",
      "Found overlapping reads!! A00426:227:H7KMJDMXY:2:1309:31286:31970\n",
      "Found overlapping reads!! A00426:227:H7KMJDMXY:2:1102:23339:4366\n",
      "Found overlapping reads!! A00426:227:H7KMJDMXY:2:2129:32018:31955\n",
      "Found overlapping reads!! A00426:227:H7KMJDMXY:2:1358:23149:16282\n",
      "Found overlapping reads!! A00426:227:H7KMJDMXY:2:1426:2492:32299\n",
      "Found overlapping reads!! A00426:227:H7KMJDMXY:2:2157:16893:29027\n",
      "Found overlapping reads!! A00426:227:H7KMJDMXY:2:1373:25735:29309\n",
      "Found overlapping reads!! A00426:227:H7KMJDMXY:2:1452:8721:25426\n",
      "Found overlapping reads!! A00426:227:H7KMJDMXY:2:1121:28546:8124\n",
      "Found overlapping reads!! A00426:227:H7KMJDMXY:2:2164:26332:24173\n",
      "Found overlapping reads!! A00426:227:H7KMJDMXY:2:2142:22634:9846\n",
      "Found overlapping reads!! A00426:227:H7KMJDMXY:2:1140:2998:13291\n",
      "Found overlapping reads!! A00426:227:H7KMJDMXY:2:2314:25825:1125\n",
      "Found overlapping reads!! A00426:227:H7KMJDMXY:2:2142:5367:18020\n",
      "Finished processing 100 reads\n"
     ]
    },
    {
     "data": {
      "text/plain": [
       "16×634657 SparseMatrixCSC{Char, Int64} with 61 stored entries:\n",
       "⠀⠀⠀⠀⠀⠀⠀⠀⠈⠀⠀⠁⠀⠀⠀⠀⠀⠀⠀⠀⠀⠀⠀⠀⠀⠀⠀⠀⠀⠀⠀⠀⠀⠀⠀⠀⠀⠁⠀⠙"
      ]
     },
     "metadata": {},
     "output_type": "display_data"
    }
   ],
   "source": [
    "test2(path)"
   ]
  },
  {
   "cell_type": "code",
   "execution_count": 11,
   "metadata": {},
   "outputs": [
    {
     "data": {
      "text/plain": [
       "2-element Vector{Any}:\n",
       " Main.EPIREAD.Record:\n",
       "    chromosome: chr1\n",
       "         start: 56902\n",
       "           end: 57027\n",
       "     name/read: A00426:227:H7KMJDMXY:2:2205:19551:25081/2\n",
       "        strand: +\n",
       "CpG RLE string: F27D2F97\n",
       "\n",
       " Main.EPIREAD.Record:\n",
       "    chromosome: chr1\n",
       "         start: 56903\n",
       "           end: 57028\n",
       "     name/read: A00426:227:H7KMJDMXY:2:2205:19551:25081/1\n",
       "        strand: +\n",
       "CpG RLE string: F3x23D2x95F3\n"
      ]
     },
     "metadata": {},
     "output_type": "display_data"
    }
   ],
   "source": [
    "records = []\n",
    "\n",
    "reader = EPIREAD.Reader(path)\n",
    "for each in reader\n",
    "\tif EPIREAD.name(each) == \"A00426:227:H7KMJDMXY:2:2205:19551:25081\"\n",
    "\t\tpush!(records, copy(each))\n",
    "\tend\n",
    "end\n",
    "\n",
    "records"
   ]
  },
  {
   "cell_type": "code",
   "execution_count": 12,
   "metadata": {},
   "outputs": [
    {
     "name": "stdout",
     "output_type": "stream",
     "text": [
      "F27D2F97, F3x23D2x95F3\n"
     ]
    }
   ],
   "source": [
    "are_overlapped(records[1], records[2])\n",
    "\n",
    "rle1 = EPIREAD.cg_rle(records[1])\n",
    "rle2 = EPIREAD.cg_rle(records[2])\n",
    "\n",
    "println(rle1, \", \", rle2)\n"
   ]
  },
  {
   "cell_type": "code",
   "execution_count": 13,
   "metadata": {},
   "outputs": [
    {
     "data": {
      "text/plain": [
       "expand_rle (generic function with 1 method)"
      ]
     },
     "metadata": {},
     "output_type": "display_data"
    }
   ],
   "source": [
    "function expand_rle(rle::String)\n",
    "\ttemp = Vector{Char}()\n",
    "\tfor (base, rep) in parse_rle(rle)\n",
    "\t\tfor i in 1:rep\n",
    "\t\t\tpush!(temp, base)\n",
    "\t\tend\n",
    "\tend\n",
    "\treturn(String(temp))\n",
    "end"
   ]
  },
  {
   "cell_type": "code",
   "execution_count": 14,
   "metadata": {},
   "outputs": [
    {
     "name": "stdout",
     "output_type": "stream",
     "text": [
      "FFFFFFFFFFFFFFFFFFFFFFFFFFFDDFFFFFFFFFFFFFFFFFFFFFFFFFFFFFFFFFFFFFFFFFFFFFFFFFFFFFFFFFFFFFFFFFFFFFFFFFFFFFFFFFFFFFFFFFFFFFFFFF\n",
      "FFFxxxxxxxxxxxxxxxxxxxxxxxDDxxxxxxxxxxxxxxxxxxxxxxxxxxxxxxxxxxxxxxxxxxxxxxxxxxxxxxxxxxxxxxxxxxxxxxxxxxxxxxxxxxxxxxxxxxxxxxxFFF\n"
     ]
    }
   ],
   "source": [
    "function merge_rle(read1::EPIREAD.Record, read2::EPIREAD.Record)\n",
    "\t# We are only guaranteed that the reads overlap by ≥ 1 base. \n",
    "\tleft_read, right_read = (EPIREAD.chromstart(read1) ≤ EPIREAD.chromstart(read2)) ? (read1, read2) : (read2, read1)\n",
    "\tleft_rle, right_rle = EPIREAD.cg_rle.([left_read, right_read])\n",
    "\t\n",
    "\tprintln(expand_rle(left_rle))\n",
    "\tprintln(expand_rle(right_rle))\n",
    "end\n",
    "\n",
    "merge_rle(records[1], records[2])"
   ]
  },
  {
   "cell_type": "code",
   "execution_count": 15,
   "metadata": {},
   "outputs": [
    {
     "data": {
      "text/plain": [
       "zip(['F', 'x', 'D', 'x', 'F'], Int16[3, 23, 2, 95, 3])"
      ]
     },
     "metadata": {},
     "output_type": "display_data"
    }
   ],
   "source": [
    "parse_rle(\"F3x23D2x95F3\")"
   ]
  },
  {
   "cell_type": "code",
   "execution_count": 22,
   "metadata": {},
   "outputs": [
    {
     "name": "stdout",
     "output_type": "stream",
     "text": [
      "FF\n",
      "FF\n",
      "FF\n",
      "Fx\n",
      "Fx\n",
      "Fx\n",
      "Fx\n",
      "Fx\n",
      "Fx\n",
      "Fx\n",
      "Fx\n",
      "Fx\n",
      "Fx\n",
      "Fx\n",
      "Fx\n",
      "Fx\n",
      "Fx\n",
      "Fx\n",
      "Fx\n",
      "Fx\n",
      "Fx\n",
      "Fx\n",
      "Fx\n",
      "Fx\n",
      "Fx\n",
      "Fx\n",
      "FD\n",
      "DD\n",
      "Dx\n",
      "Fx\n",
      "Fx\n",
      "Fx\n",
      "Fx\n",
      "Fx\n",
      "Fx\n",
      "Fx\n",
      "Fx\n",
      "Fx\n",
      "Fx\n",
      "Fx\n",
      "Fx\n",
      "Fx\n",
      "Fx\n",
      "Fx\n",
      "Fx\n",
      "Fx\n",
      "Fx\n",
      "Fx\n",
      "Fx\n",
      "Fx\n",
      "Fx\n",
      "Fx\n",
      "Fx\n",
      "Fx\n",
      "Fx\n",
      "Fx\n",
      "Fx\n",
      "Fx\n",
      "Fx\n",
      "Fx\n",
      "Fx\n",
      "Fx\n",
      "Fx\n",
      "Fx\n",
      "Fx\n",
      "Fx\n",
      "Fx\n",
      "Fx\n",
      "Fx\n",
      "Fx\n",
      "Fx\n",
      "Fx\n",
      "Fx\n",
      "Fx\n",
      "Fx\n",
      "Fx\n",
      "Fx\n",
      "Fx\n",
      "Fx\n",
      "Fx\n",
      "Fx\n",
      "Fx\n",
      "Fx\n",
      "Fx\n",
      "Fx\n",
      "Fx\n",
      "Fx\n",
      "Fx\n",
      "Fx\n",
      "Fx\n",
      "Fx\n",
      "Fx\n",
      "Fx\n",
      "Fx\n",
      "Fx\n",
      "Fx\n",
      "Fx\n",
      "Fx\n",
      "Fx\n",
      "Fx\n",
      "Fx\n",
      "Fx\n",
      "Fx\n",
      "Fx\n",
      "Fx\n",
      "Fx\n",
      "Fx\n",
      "Fx\n",
      "Fx\n",
      "Fx\n",
      "Fx\n",
      "Fx\n",
      "Fx\n",
      "Fx\n",
      "Fx\n",
      "Fx\n",
      "Fx\n",
      "Fx\n",
      "Fx\n",
      "Fx\n",
      "Fx\n",
      "Fx\n",
      "Fx\n",
      "FF\n",
      "FF\n",
      "FF\n"
     ]
    }
   ],
   "source": [
    "function merge_rles(rle1, start1, rle2, start2)\n",
    "\tfor (base1, base2) in zip(expand_rle(rle1), expand_rle(rle2))\n",
    "\t\tprintln(base1, base2)\n",
    "\tend\n",
    "end\n",
    "\n",
    "merge_rles(\"F27D2F97\", 56902, \"F3x23D2x95F3\", 56903)"
   ]
  },
  {
   "cell_type": "code",
   "execution_count": 19,
   "metadata": {},
   "outputs": [],
   "source": []
  },
  {
   "cell_type": "code",
   "execution_count": null,
   "metadata": {},
   "outputs": [],
   "source": []
  }
 ],
 "metadata": {
  "kernelspec": {
   "display_name": "Julia 1.8.0-rc1",
   "language": "julia",
   "name": "julia-1.8"
  },
  "language_info": {
   "file_extension": ".jl",
   "mimetype": "application/julia",
   "name": "julia",
   "version": "1.8.0-rc1"
  },
  "orig_nbformat": 4,
  "vscode": {
   "interpreter": {
    "hash": "b0fa6594d8f4cbf19f97940f81e996739fb7646882a419484c72d19e05852a7e"
   }
  }
 },
 "nbformat": 4,
 "nbformat_minor": 2
}
