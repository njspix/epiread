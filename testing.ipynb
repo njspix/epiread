{
 "cells": [
  {
   "cell_type": "code",
   "execution_count": 2,
   "metadata": {},
   "outputs": [
    {
     "data": {
      "text/plain": [
       "\"/Volumes/projects/laird/nathan/projects/julia/epiread/testing/part_epiread.bed\""
      ]
     },
     "metadata": {},
     "output_type": "display_data"
    }
   ],
   "source": [
    "path = \"./testing/test_epiread_small.bed\"\n",
    "big_bgz_path = \"/Volumes/projects/laird/nathan/projects/julia/epiread/testing/test_epiread.bed.bgz\"\n",
    "part_path = \"/Volumes/projects/laird/nathan/projects/julia/epiread/testing/part_epiread.bed\"\n"
   ]
  },
  {
   "cell_type": "code",
   "execution_count": 6,
   "metadata": {},
   "outputs": [],
   "source": [
    "# Reads must be coordinate-sorted, so read pairs might not be adjacent in the file. \n",
    "# Need to set a parameter (insert size) to stop looking for mate pair of a read\n",
    "\n",
    "#= \n",
    "Step through reads, one at a time. When we first see a read, we don't know if we'll find a mate for it. \n",
    "So we put it into the 'read cache' for a moment. We then keep reading. For each new read we find, we \n",
    "perform two checks:\n",
    "1. if the chromend of the first (leftmost) read in the cache is more than (max_isize) bp away from the chromstart\n",
    "of the read we're looking at, we are 'out of pairing range'. We take this opportunity to go through the cache\n",
    "and purge any reads that are impossible to pair anymore, putting them in the 'analyze' queue. We also push our current read to the cache.\n",
    "2. if the name of the read we're looking at matches the name of a read in the cache, we pull that read out and analyze it with the current read.\n",
    "(also should check that chrom stays the same...!)\n",
    "=# \n",
    "\n",
    "\n",
    "\n"
   ]
  }
 ],
 "metadata": {
  "kernelspec": {
   "display_name": "Julia 1.8.0-rc1",
   "language": "julia",
   "name": "julia-1.8"
  },
  "language_info": {
   "file_extension": ".jl",
   "mimetype": "application/julia",
   "name": "julia",
   "version": "1.8.0-rc1"
  },
  "orig_nbformat": 4,
  "vscode": {
   "interpreter": {
    "hash": "b0fa6594d8f4cbf19f97940f81e996739fb7646882a419484c72d19e05852a7e"
   }
  }
 },
 "nbformat": 4,
 "nbformat_minor": 2
}
